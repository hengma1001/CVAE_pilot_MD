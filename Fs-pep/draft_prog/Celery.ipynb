{
 "cells": [
  {
   "cell_type": "code",
   "execution_count": 1,
   "metadata": {},
   "outputs": [],
   "source": [
    "from __future__ import print_function"
   ]
  },
  {
   "cell_type": "code",
   "execution_count": 2,
   "metadata": {},
   "outputs": [
    {
     "name": "stderr",
     "output_type": "stream",
     "text": [
      "Using TensorFlow backend.\n"
     ]
    }
   ],
   "source": [
    "from glob import glob\n",
    "import numpy as np\n",
    "import sys, os, h5py, time, errno\n",
    "import GPUtil\n",
    "import MDAnalysis as mda\n",
    "from sklearn.cluster import DBSCAN\n",
    "\n",
    "from CVAE import CVAE \n",
    "from utils import start_rabbit, start_worker, start_flower_monitor, read_h5py_file, cm_to_cvae, job_on_gpu\n",
    "from utils import find_frame, write_pdb_frame, make_dir_p, outliers_from_cvae\n",
    "from utils import omm_job, cvae_job "
   ]
  },
  {
   "cell_type": "raw",
   "metadata": {},
   "source": [
    "GPUtil.showUtilization()"
   ]
  },
  {
   "cell_type": "code",
   "execution_count": 3,
   "metadata": {},
   "outputs": [
    {
     "name": "stdout",
     "output_type": "stream",
     "text": [
      "Available GPUs [0, 1]\n"
     ]
    }
   ],
   "source": [
    "GPU_ids = [gpu.id for gpu in GPUtil.getGPUs()] \n",
    "print('Available GPUs', GPU_ids) "
   ]
  },
  {
   "cell_type": "code",
   "execution_count": 4,
   "metadata": {},
   "outputs": [],
   "source": [
    "top_file = None\n",
    "pdb_file = os.path.abspath('./pdb/100-fs-peptide-400K.pdb')"
   ]
  },
  {
   "cell_type": "code",
   "execution_count": 5,
   "metadata": {},
   "outputs": [],
   "source": [
    "# number of cvae jobs \n",
    "n_cvae = 1 "
   ]
  },
  {
   "cell_type": "markdown",
   "metadata": {},
   "source": [
    "# logs for scheudler"
   ]
  },
  {
   "cell_type": "code",
   "execution_count": 6,
   "metadata": {},
   "outputs": [],
   "source": [
    "work_dir = os.path.abspath('./')\n",
    "log_dir = os.path.join(work_dir, 'scheduler_logs') \n",
    "make_dir_p(log_dir)"
   ]
  },
  {
   "cell_type": "code",
   "execution_count": 7,
   "metadata": {},
   "outputs": [
    {
     "name": "stdout",
     "output_type": "stream",
     "text": [
      "Waiting 10 seconds for the server to stablize.\n"
     ]
    }
   ],
   "source": [
    "rabbitmq_log = os.path.join(log_dir, 'rabbit_server_log.txt') \n",
    "start_rabbit(rabbitmq_log)\n",
    "time.sleep(5)\n",
    "\n",
    "celery_worker_log = os.path.join(log_dir, 'celery_worker_log.txt') \n",
    "start_worker(celery_worker_log)\n",
    "start_flower_monitor() \n",
    "print('Waiting 10 seconds for the server to stablize.')\n",
    "time.sleep(10)"
   ]
  },
  {
   "cell_type": "markdown",
   "metadata": {},
   "source": [
    "## Jobs\n",
    "* Assign job_id according to the available GPUs on the board. \n",
    "* Start the simulation according the job_labels containing job_id and gpu_id for individual jobs "
   ]
  },
  {
   "cell_type": "code",
   "execution_count": 8,
   "metadata": {},
   "outputs": [
    {
     "name": "stdout",
     "output_type": "stream",
     "text": [
      "haha\n",
      "haha\n"
     ]
    }
   ],
   "source": [
    "jobs = []\n",
    "for gpu_id in GPU_ids: \n",
    "    job = omm_job(job_id=int(time.time()), gpu_id=gpu_id, top_file=top_file, pdb_file=pdb_file)\n",
    "    job.start() \n",
    "    print('haha')\n",
    "    jobs.append(job) \n",
    "    time.sleep(2)"
   ]
  },
  {
   "cell_type": "code",
   "execution_count": 9,
   "metadata": {},
   "outputs": [
    {
     "data": {
      "text/plain": [
       "[<utils.omm_job at 0x7f4ccb88c310>, <utils.omm_job at 0x7f4ccb827a90>]"
      ]
     },
     "execution_count": 9,
     "metadata": {},
     "output_type": "execute_result"
    }
   ],
   "source": [
    "jobs"
   ]
  },
  {
   "cell_type": "raw",
   "metadata": {},
   "source": [
    "for job in jobs: \n",
    "    print job.stop()"
   ]
  },
  {
   "cell_type": "markdown",
   "metadata": {},
   "source": [
    "# Read the output h5 files"
   ]
  },
  {
   "cell_type": "raw",
   "metadata": {},
   "source": [
    "print('Waiting 5 mins for omm to write contact map .h5 files. ')\n",
    "time.sleep(300)"
   ]
  },
  {
   "cell_type": "code",
   "execution_count": 7,
   "metadata": {},
   "outputs": [],
   "source": [
    "cm_files = sorted(glob('store*/*_cm.h5')) \n",
    "\n",
    "cm_data_lists = [read_h5py_file(cm_file) for cm_file in cm_files] "
   ]
  },
  {
   "cell_type": "code",
   "execution_count": 8,
   "metadata": {},
   "outputs": [
    {
     "data": {
      "text/plain": [
       "['store_omm_run1542409149/output_cm.h5',\n",
       " 'store_omm_run1542409151/output_cm.h5']"
      ]
     },
     "execution_count": 8,
     "metadata": {},
     "output_type": "execute_result"
    }
   ],
   "source": [
    "cm_files"
   ]
  },
  {
   "cell_type": "raw",
   "metadata": {},
   "source": [
    "for cm in cm_data_lists: \n",
    "    print cm.shape"
   ]
  },
  {
   "cell_type": "markdown",
   "metadata": {},
   "source": [
    "# Get updates from h5 file\n",
    "Once every minute"
   ]
  },
  {
   "cell_type": "code",
   "execution_count": 9,
   "metadata": {},
   "outputs": [
    {
     "data": {
      "text/plain": [
       "25220"
      ]
     },
     "execution_count": 9,
     "metadata": {},
     "output_type": "execute_result"
    }
   ],
   "source": [
    "frame_number = lambda lists: sum([cm.shape[1] for cm in lists])\n",
    "frame_number(cm_data_lists)"
   ]
  },
  {
   "cell_type": "code",
   "execution_count": 10,
   "metadata": {},
   "outputs": [],
   "source": [
    "frame_marker = 0 \n",
    "while frame_number(cm_data_lists) < 1000: \n",
    "    for cm in cm_data_lists: \n",
    "        cm.refresh() \n",
    "    if frame_number(cm_data_lists) > frame_marker: \n",
    "        print('Current number of frames from OpenMM:', frame_number(cm_data_lists)) \n",
    "        frame_marker = int((10000 + frame_marker) / 10000) * 10000\n",
    "        print('    Next report at frame', frame_marker) \n",
    "#     time.sleep(600)"
   ]
  },
  {
   "cell_type": "markdown",
   "metadata": {},
   "source": [
    "# All contact to h5"
   ]
  },
  {
   "cell_type": "code",
   "execution_count": 11,
   "metadata": {},
   "outputs": [],
   "source": [
    "cvae_input = cm_to_cvae(cm_data_lists)"
   ]
  },
  {
   "cell_type": "code",
   "execution_count": 12,
   "metadata": {},
   "outputs": [
    {
     "data": {
      "text/plain": [
       "[<HDF5 dataset \"contact_maps\": shape (1326, 12972), type \"<f4\">,\n",
       " <HDF5 dataset \"contact_maps\": shape (1326, 12248), type \"<f4\">]"
      ]
     },
     "execution_count": 12,
     "metadata": {},
     "output_type": "execute_result"
    }
   ],
   "source": [
    "cm_data_lists"
   ]
  },
  {
   "cell_type": "code",
   "execution_count": 13,
   "metadata": {},
   "outputs": [],
   "source": [
    "train_data_length = [ cm_data.shape[1] for cm_data in cm_data_lists]\n",
    "\n",
    "omm_log = os.path.join(log_dir, 'openmm_log.txt') \n",
    "\n",
    "log = open(omm_log, 'w') \n",
    "\n",
    "for i, n_frame in enumerate(train_data_length): \n",
    "    log.writelines(\"{} {}\\n\".format(cm_files[i], n_frame))    \n",
    "log.close()"
   ]
  },
  {
   "cell_type": "code",
   "execution_count": 14,
   "metadata": {},
   "outputs": [],
   "source": [
    "cvae_input = cm_to_cvae(cm_data_lists)\n",
    "\n",
    "cvae_input_dir = os.path.join(work_dir, 'cvae_input') \n",
    "make_dir_p(cvae_input_dir)\n",
    "\n",
    "cvae_input_file = os.path.join(cvae_input_dir, 'cvae_input.h5')\n",
    "cvae_input_save = h5py.File(cvae_input_file, 'w')\n",
    "cvae_input_save.create_dataset('contact_maps', data=cvae_input)\n",
    "cvae_input_save.close() "
   ]
  },
  {
   "cell_type": "raw",
   "metadata": {},
   "source": [
    "cvae_input_save = h5py.File('./cvae_input.h5', 'r')\n",
    "cvae_input_save.close()"
   ]
  },
  {
   "cell_type": "markdown",
   "metadata": {},
   "source": [
    "# CVAE"
   ]
  },
  {
   "cell_type": "code",
   "execution_count": null,
   "metadata": {},
   "outputs": [],
   "source": [
    "hyper_dims = np.array(range(n_cvae)) + 3"
   ]
  },
  {
   "cell_type": "code",
   "execution_count": null,
   "metadata": {},
   "outputs": [],
   "source": [
    "cvae_jobs = []\n",
    "for i in range(n_cvae): \n",
    "    cvae_j = cvae_job(time.time(), i, cvae_input_file, hyper_dim=3) \n",
    "    stop_jobs = job_on_gpu(i, jobs) \n",
    "    stop_jobs.stop()  \n",
    "    cvae_j.start() \n",
    "    jobs.append(cvae_j) \n",
    "    cvae_jobs.append(cvae_j)\n",
    "    time.sleep(2)"
   ]
  },
  {
   "cell_type": "code",
   "execution_count": null,
   "metadata": {},
   "outputs": [],
   "source": [
    "cvae_j.job.status"
   ]
  },
  {
   "cell_type": "code",
   "execution_count": 20,
   "metadata": {},
   "outputs": [
    {
     "name": "stdout",
     "output_type": "stream",
     "text": [
      "CVAE done. \n"
     ]
    }
   ],
   "source": [
    "while [cvae_j.job.status for cvae_j in cvae_jobs] != u'SUCCESS': \n",
    "    time.sleep(10)\n",
    "print('CVAE done. ') \n",
    "model_weight, model_save = cvae_j.job.result "
   ]
  },
  {
   "cell_type": "code",
   "execution_count": 25,
   "metadata": {},
   "outputs": [
    {
     "data": {
      "text/plain": [
       "False"
      ]
     },
     "execution_count": 25,
     "metadata": {},
     "output_type": "execute_result"
    }
   ],
   "source": [
    "[u'SUCCESS', u'SUCCESS', u'SUCCESS', u'SCESS'] == u'SUCCESS'"
   ]
  },
  {
   "cell_type": "markdown",
   "metadata": {},
   "source": [
    "# Identifier base on CVAE result"
   ]
  },
  {
   "cell_type": "code",
   "execution_count": 5,
   "metadata": {},
   "outputs": [],
   "source": [
    "model_weight = 'cvae_model_3_1542664915/cvae_weight.h5'"
   ]
  },
  {
   "cell_type": "code",
   "execution_count": 6,
   "metadata": {},
   "outputs": [],
   "source": [
    "cm_h5 = h5py.File('cvae_input/cvae_input.h5', 'r', libver='latest', swmr=True)\n",
    "cvae_input = cm_h5[u'contact_maps'] "
   ]
  },
  {
   "cell_type": "code",
   "execution_count": 7,
   "metadata": {},
   "outputs": [],
   "source": [
    "outlier_list = []\n",
    "for _ in range(2): \n",
    "    outliers = outliers_from_cvae(model_weight, cvae_input,hyper_dim=3)\n",
    "    outlier_list.append(outliers)\n",
    "    \n",
    "outlier_list = np.unique(np.array(outlier_list).flatten())"
   ]
  },
  {
   "cell_type": "markdown",
   "metadata": {},
   "source": [
    "# Find the frame"
   ]
  },
  {
   "cell_type": "code",
   "execution_count": 8,
   "metadata": {},
   "outputs": [],
   "source": [
    "traj_info = open('./scheduler_logs/openmm_log.txt', 'r').read().split()\n",
    "\n",
    "traj_dict = dict(zip(traj_info[::2], np.array(traj_info[1::2]).astype(int)))\n",
    "\n",
    "traj_dict\n",
    "\n",
    "outliers_pdb = './outliers_pdb'\n",
    "make_dir_p(outliers_pdb)\n",
    "\n",
    "for outlier in outlier_list: \n",
    "    traj_file, frame_number = find_frame(traj_dict, outlier) \n",
    "    outlier_pdb_file = os.path.join(outliers_pdb, '%d.pdb' % outlier)\n",
    "    outlier_pdb = write_pdb_frame(traj_file, pdb_file, frame_number, outlier_pdb_file) "
   ]
  },
  {
   "cell_type": "code",
   "execution_count": null,
   "metadata": {},
   "outputs": [],
   "source": []
  }
 ],
 "metadata": {
  "kernelspec": {
   "display_name": "Python 2",
   "language": "python",
   "name": "python2"
  },
  "language_info": {
   "codemirror_mode": {
    "name": "ipython",
    "version": 2
   },
   "file_extension": ".py",
   "mimetype": "text/x-python",
   "name": "python",
   "nbconvert_exporter": "python",
   "pygments_lexer": "ipython2",
   "version": "2.7.14"
  }
 },
 "nbformat": 4,
 "nbformat_minor": 2
}
