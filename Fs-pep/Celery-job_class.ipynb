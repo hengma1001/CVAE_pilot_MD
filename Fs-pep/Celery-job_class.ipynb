{
 "cells": [
  {
   "cell_type": "code",
   "execution_count": 1,
   "metadata": {},
   "outputs": [],
   "source": [
    "from __future__ import print_function"
   ]
  },
  {
   "cell_type": "code",
   "execution_count": 2,
   "metadata": {},
   "outputs": [
    {
     "name": "stderr",
     "output_type": "stream",
     "text": [
      "Using TensorFlow backend.\n"
     ]
    }
   ],
   "source": [
    "from glob import glob\n",
    "import numpy as np\n",
    "import sys, os, h5py, time, errno\n",
    "import GPUtil\n",
    "import MDAnalysis as mda\n",
    "from sklearn.cluster import DBSCAN\n",
    "\n",
    "from CVAE import CVAE \n",
    "from utils import start_rabbit, start_worker, start_flower_monitor, read_h5py_file, cm_to_cvae, job_on_gpu\n",
    "from utils import find_frame, write_pdb_frame, make_dir_p, outliers_from_cvae, job_list\n",
    "from utils import omm_job, cvae_job "
   ]
  },
  {
   "cell_type": "raw",
   "metadata": {},
   "source": [
    "GPUtil.showUtilization()"
   ]
  },
  {
   "cell_type": "code",
   "execution_count": 3,
   "metadata": {},
   "outputs": [
    {
     "name": "stdout",
     "output_type": "stream",
     "text": [
      "Available GPUs [0, 1]\n"
     ]
    }
   ],
   "source": [
    "GPU_ids = [gpu.id for gpu in GPUtil.getGPUs()] \n",
    "print('Available GPUs', GPU_ids) "
   ]
  },
  {
   "cell_type": "code",
   "execution_count": 4,
   "metadata": {},
   "outputs": [],
   "source": [
    "top_file = None\n",
    "pdb_file = os.path.abspath('./pdb/100-fs-peptide-400K.pdb')"
   ]
  },
  {
   "cell_type": "code",
   "execution_count": 5,
   "metadata": {},
   "outputs": [],
   "source": [
    "# number of cvae jobs \n",
    "n_cvae = 1 "
   ]
  },
  {
   "cell_type": "markdown",
   "metadata": {},
   "source": [
    "# logs for scheudler"
   ]
  },
  {
   "cell_type": "code",
   "execution_count": 6,
   "metadata": {},
   "outputs": [],
   "source": [
    "work_dir = os.path.abspath('./')\n",
    "log_dir = os.path.join(work_dir, 'scheduler_logs') \n",
    "make_dir_p(log_dir)"
   ]
  },
  {
   "cell_type": "code",
   "execution_count": 7,
   "metadata": {},
   "outputs": [
    {
     "name": "stdout",
     "output_type": "stream",
     "text": [
      "Waiting 10 seconds for the server to stablize.\n"
     ]
    }
   ],
   "source": [
    "rabbitmq_log = os.path.join(log_dir, 'rabbit_server_log.txt') \n",
    "start_rabbit(rabbitmq_log)\n",
    "time.sleep(5)\n",
    "\n",
    "celery_worker_log = os.path.join(log_dir, 'celery_worker_log.txt') \n",
    "start_worker(celery_worker_log)\n",
    "start_flower_monitor() \n",
    "print('Waiting 10 seconds for the server to stablize.')\n",
    "time.sleep(10)"
   ]
  },
  {
   "cell_type": "markdown",
   "metadata": {},
   "source": [
    "## Jobs\n",
    "* Assign job_id according to the available GPUs on the board. \n",
    "* Start the simulation according the job_labels containing job_id and gpu_id for individual jobs "
   ]
  },
  {
   "cell_type": "raw",
   "metadata": {},
   "source": [
    "class job_list(list): \n",
    "    \"\"\"\n",
    "    This create a list that allows to easily tracking the status of Celery jobs\n",
    "    \"\"\"\n",
    "    def __init__(self): \n",
    "        pass\n",
    "    \n",
    "    def get_job_from_gpu_id(self, gpu_id): \n",
    "        for job in self: \n",
    "            if job.gpu_id == gpu_id and job.job and job.job.status == u'PENDING': \n",
    "                return job \n",
    "    \n",
    "    def get_running_jobs(self): \n",
    "        running_list = []\n",
    "        for job in self: \n",
    "            if job.job and job.job.status == u'PENDING':  \n",
    "                running_list.append(job)\n",
    "        return running_list \n",
    "    \n",
    "    def get_omm_jobs(self): \n",
    "        omm_list = [job for job in self if job.type == 'omm']\n",
    "        return omm_list \n",
    "    \n",
    "    def get_cvae_jobs(self): \n",
    "        cvae_list = [job for job in self if job.type == 'cvae']\n",
    "        return cvae_list \n",
    "    \n",
    "    def get_available_gpu(self, gpu_list): \n",
    "        avail_gpu = gpu_list[:]\n",
    "        for jobs in jobs.get_running_jobs():\n",
    "            avail_gpu.remove(job.gpu_id)\n",
    "        return avail_gpu \n",
    "    \n",
    "    def get_running_omm_jobs(self): \n",
    "        running_omm_list = [job for job in self.get_running_jobs() if job.type == 'omm'] \n",
    "        return running_omm_list  \n",
    "    \n",
    "    def get_finished_cave_jobs(self): \n",
    "        finished_cvae_list = [job for job in self.get_cvae_jobs() if job.job.status == u'SUCCESS']\n",
    "        return finished_cvae_list"
   ]
  },
  {
   "cell_type": "code",
   "execution_count": 8,
   "metadata": {},
   "outputs": [],
   "source": [
    "jobs = job_list()"
   ]
  },
  {
   "cell_type": "code",
   "execution_count": 9,
   "metadata": {},
   "outputs": [
    {
     "name": "stdout",
     "output_type": "stream",
     "text": [
      "haha\n",
      "haha\n"
     ]
    }
   ],
   "source": [
    "for gpu_id in GPU_ids: \n",
    "    job = omm_job(job_id=int(time.time()), gpu_id=gpu_id, top_file=top_file, pdb_file=pdb_file)\n",
    "    job.start()\n",
    "    print('haha')\n",
    "    jobs.append(job) \n",
    "    time.sleep(2)"
   ]
  },
  {
   "cell_type": "code",
   "execution_count": 10,
   "metadata": {},
   "outputs": [
    {
     "name": "stdout",
     "output_type": "stream",
     "text": [
      "haha\n",
      "haha\n"
     ]
    }
   ],
   "source": [
    "for gpu_id in GPU_ids: \n",
    "    job = omm_job(job_id=int(time.time()), gpu_id=gpu_id, top_file=top_file, pdb_file=pdb_file)\n",
    "#     job.start()\n",
    "    print('haha')\n",
    "    jobs.append(job) \n",
    "    time.sleep(2)"
   ]
  },
  {
   "cell_type": "raw",
   "metadata": {},
   "source": [
    "for job in jobs: \n",
    "    print job.stop()"
   ]
  },
  {
   "cell_type": "markdown",
   "metadata": {},
   "source": [
    "# Read the output h5 files"
   ]
  },
  {
   "cell_type": "raw",
   "metadata": {},
   "source": [
    "print('Waiting 5 mins for omm to write contact map .h5 files. ')\n",
    "time.sleep(300)"
   ]
  },
  {
   "cell_type": "code",
   "execution_count": 11,
   "metadata": {},
   "outputs": [],
   "source": [
    "cm_files = sorted(glob('omm*/*_cm.h5')) \n",
    "\n",
    "cm_data_lists = [read_h5py_file(cm_file) for cm_file in cm_files] "
   ]
  },
  {
   "cell_type": "code",
   "execution_count": 12,
   "metadata": {},
   "outputs": [
    {
     "data": {
      "text/plain": [
       "['omm_run1543423738/output_cm.h5',\n",
       " 'omm_run1543423740/output_cm.h5',\n",
       " 'omm_run1543428029/output_cm.h5',\n",
       " 'omm_run1543428031/output_cm.h5',\n",
       " 'omm_run_1543432197/output_cm.h5',\n",
       " 'omm_run_1543432199/output_cm.h5']"
      ]
     },
     "execution_count": 12,
     "metadata": {},
     "output_type": "execute_result"
    }
   ],
   "source": [
    "cm_files"
   ]
  },
  {
   "cell_type": "raw",
   "metadata": {},
   "source": [
    "for cm in cm_data_lists: \n",
    "    print cm.shape"
   ]
  },
  {
   "cell_type": "markdown",
   "metadata": {},
   "source": [
    "# Get updates from h5 file\n",
    "Once every minute"
   ]
  },
  {
   "cell_type": "code",
   "execution_count": 13,
   "metadata": {},
   "outputs": [
    {
     "data": {
      "text/plain": [
       "3257"
      ]
     },
     "execution_count": 13,
     "metadata": {},
     "output_type": "execute_result"
    }
   ],
   "source": [
    "frame_number = lambda lists: sum([cm.shape[1] for cm in lists])\n",
    "frame_number(cm_data_lists)"
   ]
  },
  {
   "cell_type": "code",
   "execution_count": 14,
   "metadata": {},
   "outputs": [],
   "source": [
    "frame_marker = 0 \n",
    "while frame_number(cm_data_lists) < 500: \n",
    "    for cm in cm_data_lists: \n",
    "        cm.refresh() \n",
    "    if frame_number(cm_data_lists) > frame_marker: \n",
    "        print('Current number of frames from OpenMM:', frame_number(cm_data_lists)) \n",
    "        frame_marker = int((100 + frame_marker) / 100) * 100\n",
    "        print('    Next report at frame', frame_marker) \n",
    "#     time.sleep(600)"
   ]
  },
  {
   "cell_type": "markdown",
   "metadata": {},
   "source": [
    "# All contact to h5"
   ]
  },
  {
   "cell_type": "code",
   "execution_count": 15,
   "metadata": {},
   "outputs": [],
   "source": [
    "train_data_length = [ cm_data.shape[1] for cm_data in cm_data_lists]\n",
    "\n",
    "omm_log = os.path.join(log_dir, 'openmm_log.txt') \n",
    "\n",
    "log = open(omm_log, 'w') \n",
    "\n",
    "for i, n_frame in enumerate(train_data_length): \n",
    "    log.writelines(\"{} {}\\n\".format(cm_files[i], n_frame))    \n",
    "log.close()"
   ]
  },
  {
   "cell_type": "code",
   "execution_count": 16,
   "metadata": {},
   "outputs": [],
   "source": [
    "cvae_input = cm_to_cvae(cm_data_lists)\n",
    "\n",
    "cvae_input_dir = os.path.join(work_dir, 'cvae_input') \n",
    "make_dir_p(cvae_input_dir)\n",
    "\n",
    "cvae_input_file = os.path.join(cvae_input_dir, 'cvae_input.h5')\n",
    "cvae_input_save = h5py.File(cvae_input_file, 'w')\n",
    "cvae_input_save.create_dataset('contact_maps', data=cvae_input)\n",
    "cvae_input_save.close() "
   ]
  },
  {
   "cell_type": "code",
   "execution_count": 17,
   "metadata": {},
   "outputs": [
    {
     "data": {
      "text/plain": [
       "(3257, 22, 22, 1)"
      ]
     },
     "execution_count": 17,
     "metadata": {},
     "output_type": "execute_result"
    }
   ],
   "source": [
    "cvae_input.shape"
   ]
  },
  {
   "cell_type": "raw",
   "metadata": {},
   "source": [
    "cvae_input_save = h5py.File('./cvae_input.h5', 'r')\n",
    "cvae_input_save.close()"
   ]
  },
  {
   "cell_type": "markdown",
   "metadata": {},
   "source": [
    "# CVAE"
   ]
  },
  {
   "cell_type": "code",
   "execution_count": 18,
   "metadata": {},
   "outputs": [],
   "source": [
    "hyper_dims = np.array(range(n_cvae)) + 3"
   ]
  },
  {
   "cell_type": "raw",
   "metadata": {},
   "source": [
    "job_on_gpu(0, jobs)"
   ]
  },
  {
   "cell_type": "code",
   "execution_count": 20,
   "metadata": {},
   "outputs": [
    {
     "name": "stdout",
     "output_type": "stream",
     "text": [
      "hehre\n"
     ]
    }
   ],
   "source": [
    "# cvae_jobs = []\n",
    "for i in range(n_cvae): \n",
    "    cvae_j = cvae_job(time.time(), i, cvae_input_file, hyper_dim=3) \n",
    "    stop_jobs = jobs.get_job_from_gpu_id(i) \n",
    "    stop_jobs.stop()  \n",
    "    time.sleep(2)\n",
    "    print('hehre')\n",
    "    cvae_j.start() \n",
    "    jobs.append(cvae_j) \n",
    "#     cvae_jobs.append(cvae_j)\n",
    "    time.sleep(2)"
   ]
  },
  {
   "cell_type": "code",
   "execution_count": 21,
   "metadata": {},
   "outputs": [
    {
     "data": {
      "text/plain": [
       "[<utils.omm_job at 0x7ff638e8a690>,\n",
       " <utils.omm_job at 0x7ff638e21dd0>,\n",
       " <utils.omm_job at 0x7ff638d827d0>,\n",
       " <utils.omm_job at 0x7ff6978a9e10>,\n",
       " <utils.cvae_job at 0x7ff634668ad0>]"
      ]
     },
     "execution_count": 21,
     "metadata": {},
     "output_type": "execute_result"
    }
   ],
   "source": [
    "jobs"
   ]
  },
  {
   "cell_type": "code",
   "execution_count": 22,
   "metadata": {},
   "outputs": [
    {
     "data": {
      "text/plain": [
       "<utils.cvae_job at 0x7ff634668ad0>"
      ]
     },
     "execution_count": 22,
     "metadata": {},
     "output_type": "execute_result"
    }
   ],
   "source": [
    "jobs.get_job_from_gpu_id(0) "
   ]
  },
  {
   "cell_type": "code",
   "execution_count": 23,
   "metadata": {},
   "outputs": [
    {
     "data": {
      "text/plain": [
       "[<utils.omm_job at 0x7ff638e21dd0>, <utils.cvae_job at 0x7ff634668ad0>]"
      ]
     },
     "execution_count": 23,
     "metadata": {},
     "output_type": "execute_result"
    }
   ],
   "source": [
    "jobs.get_running_jobs()"
   ]
  },
  {
   "cell_type": "code",
   "execution_count": 27,
   "metadata": {},
   "outputs": [
    {
     "data": {
      "text/plain": [
       "<utils.cvae_job at 0x7f4e3d030b90>"
      ]
     },
     "execution_count": 27,
     "metadata": {},
     "output_type": "execute_result"
    }
   ],
   "source": [
    "jobs.get_job_from_gpu_id(0)"
   ]
  },
  {
   "cell_type": "code",
   "execution_count": 24,
   "metadata": {},
   "outputs": [
    {
     "data": {
      "text/plain": [
       "[]"
      ]
     },
     "execution_count": 24,
     "metadata": {},
     "output_type": "execute_result"
    }
   ],
   "source": [
    "avail_gpu = GPU_ids[:]\n",
    "\n",
    "for job in jobs.get_running_jobs():\n",
    "    avail_gpu.remove(job.gpu_id)\n",
    "\n",
    "avail_gpu"
   ]
  },
  {
   "cell_type": "code",
   "execution_count": 27,
   "metadata": {},
   "outputs": [
    {
     "data": {
      "text/plain": [
       "[u'SUCCESS']"
      ]
     },
     "execution_count": 27,
     "metadata": {},
     "output_type": "execute_result"
    }
   ],
   "source": [
    "[cvae_j.job.status for cvae_j in jobs.get_cvae_jobs()]"
   ]
  },
  {
   "cell_type": "code",
   "execution_count": 34,
   "metadata": {},
   "outputs": [
    {
     "name": "stdout",
     "output_type": "stream",
     "text": [
      "CVAE done. \n"
     ]
    }
   ],
   "source": [
    "while [cvae_j.job.status for cvae_j in jobs.get_cvae_jobs()] != [u'SUCCESS'] * len(jobs.get_cvae_jobs()): \n",
    "    time.sleep(.5)\n",
    "print('CVAE done. ') "
   ]
  },
  {
   "cell_type": "code",
   "execution_count": 33,
   "metadata": {},
   "outputs": [
    {
     "data": {
      "text/plain": [
       "True"
      ]
     },
     "execution_count": 33,
     "metadata": {},
     "output_type": "execute_result"
    }
   ],
   "source": [
    "[u'SUCCESS', u'SUCCESS', u'SUCCESS'] == [u'SUCCESS'] * 3"
   ]
  },
  {
   "cell_type": "markdown",
   "metadata": {},
   "source": [
    "# Identifier base on CVAE result"
   ]
  },
  {
   "cell_type": "code",
   "execution_count": 5,
   "metadata": {},
   "outputs": [],
   "source": [
    "model_weight = 'cvae_model_3_1542664915/cvae_weight.h5'"
   ]
  },
  {
   "cell_type": "code",
   "execution_count": 6,
   "metadata": {},
   "outputs": [],
   "source": [
    "cm_h5 = h5py.File('cvae_input/cvae_input.h5', 'r', libver='latest', swmr=True)\n",
    "cvae_input = cm_h5[u'contact_maps'] "
   ]
  },
  {
   "cell_type": "code",
   "execution_count": 35,
   "metadata": {},
   "outputs": [],
   "source": [
    "outlier_list = []\n",
    "for cvae_j in jobs.get_cvae_jobs(): \n",
    "    outliers = outliers_from_cvae(cvae_j.job.result[0], cvae_input, hyper_dim=cvae_j.hyper_dim, eps=0.35) \n",
    "    outlier_list.append(outliers) \n",
    "    \n",
    "outlier_list = np.unique(np.array(outlier_list).flatten())"
   ]
  },
  {
   "cell_type": "code",
   "execution_count": 36,
   "metadata": {},
   "outputs": [
    {
     "data": {
      "text/plain": [
       "array([  50,   51,   63,  190,  277,  314,  316,  324,  327,  334,  335,\n",
       "        338,  341,  355,  356,  484,  510,  530,  533,  539,  540,  541,\n",
       "        555,  558,  577,  580,  609,  610,  624,  625,  659,  660,  676,\n",
       "        677,  678,  679,  693,  699,  702,  703,  704,  707,  709,  710,\n",
       "        711,  734,  742,  743,  746,  749,  750,  770,  771,  777,  778,\n",
       "        798,  832,  840,  868,  950,  952,  953,  954,  956,  957,  958,\n",
       "        959,  960,  961,  962,  963,  965,  966,  967,  968,  972,  994,\n",
       "        999, 1000, 1015, 1022, 1023, 1024, 1025, 1027, 1050, 1053, 1055,\n",
       "       1069, 1078, 1084, 1085, 1086, 1088, 1089, 1117, 1122, 1128, 1129,\n",
       "       1130, 1151, 1152, 1153, 1154, 1155, 1156, 1157, 1159, 1160, 1161,\n",
       "       1162, 1163, 1165, 1167, 1168, 1169, 1170, 1171, 1172, 1173, 1174,\n",
       "       1175, 1176, 1177, 1178, 1179, 1180, 1181, 1182, 1183, 1184, 1185,\n",
       "       1186, 1187, 1188, 1189, 1192, 1193, 1206, 1208, 1219, 1224, 1235,\n",
       "       1237, 1239, 1240, 1242, 1272, 1273, 1276, 1282, 1301, 1309, 1328,\n",
       "       1329, 1334, 1336, 1340, 1345, 1348, 1349, 1357, 1358, 1367, 1368,\n",
       "       1379, 1386, 1394, 1402, 1403, 1409, 1414, 1415, 1416, 1417, 1418,\n",
       "       1420, 1423, 1424, 1425, 1426, 1427, 1428, 1429, 1430, 1434, 1435,\n",
       "       1437, 1439, 1441, 1442, 1501, 1511, 1526, 1546, 1583, 1584, 1588,\n",
       "       1589, 1591, 1686, 1691, 1700, 1705, 1712, 1715, 1722, 1723, 1727,\n",
       "       1728, 1729, 1730, 1737, 1738, 1748, 1749, 1751, 1756, 1785, 1818,\n",
       "       1819, 1820, 1823, 1887, 1900, 1909, 1933, 1935, 1942, 1943, 1944,\n",
       "       1945, 1950, 1963, 1975, 1990, 2010, 2021, 2022, 2023, 2070, 2076,\n",
       "       2082, 2090, 2103, 2141, 2149, 2156, 2159, 2162, 2168, 2171, 2172,\n",
       "       2185, 2245, 2248, 2254, 2272, 2284, 2306, 2307, 2311, 2327, 2328,\n",
       "       2329, 2330, 2331, 2332, 2333, 2340, 2342, 2343, 2344, 2346, 2386,\n",
       "       2399, 2419, 2452, 2453, 2467, 2474, 2475, 2477, 2485, 2495, 2501,\n",
       "       2509, 2540, 2541, 2542, 2554, 2556, 2557, 2568, 2573, 2578, 2579,\n",
       "       2580, 2581, 2587, 2588, 2600, 2602, 2906, 2952, 2954, 2956, 2957,\n",
       "       2958, 2959])"
      ]
     },
     "execution_count": 36,
     "metadata": {},
     "output_type": "execute_result"
    }
   ],
   "source": [
    "outlier_list "
   ]
  },
  {
   "cell_type": "markdown",
   "metadata": {},
   "source": [
    "# Find the frame"
   ]
  },
  {
   "cell_type": "code",
   "execution_count": 37,
   "metadata": {},
   "outputs": [],
   "source": [
    "traj_info = open('./scheduler_logs/openmm_log.txt', 'r').read().split()\n",
    "\n",
    "traj_dict = dict(zip(traj_info[::2], np.array(traj_info[1::2]).astype(int)))\n",
    "\n",
    "traj_dict\n",
    "\n",
    "outliers_pdb = './outliers_pdb'\n",
    "make_dir_p(outliers_pdb)\n",
    "\n",
    "for outlier in outlier_list: \n",
    "    traj_file, frame_number = find_frame(traj_dict, outlier) \n",
    "    outlier_pdb_file = os.path.join(outliers_pdb, '%d.pdb' % outlier)\n",
    "    outlier_pdb = write_pdb_frame(traj_file, pdb_file, frame_number, outlier_pdb_file) "
   ]
  },
  {
   "cell_type": "code",
   "execution_count": null,
   "metadata": {},
   "outputs": [],
   "source": []
  }
 ],
 "metadata": {
  "kernelspec": {
   "display_name": "Python 2",
   "language": "python",
   "name": "python2"
  },
  "language_info": {
   "codemirror_mode": {
    "name": "ipython",
    "version": 2
   },
   "file_extension": ".py",
   "mimetype": "text/x-python",
   "name": "python",
   "nbconvert_exporter": "python",
   "pygments_lexer": "ipython2",
   "version": "2.7.14"
  }
 },
 "nbformat": 4,
 "nbformat_minor": 2
}
