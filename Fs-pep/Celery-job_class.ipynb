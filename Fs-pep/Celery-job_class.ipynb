{
 "cells": [
  {
   "cell_type": "code",
   "execution_count": 1,
   "metadata": {},
   "outputs": [],
   "source": [
    "from __future__ import print_function"
   ]
  },
  {
   "cell_type": "code",
   "execution_count": 2,
   "metadata": {},
   "outputs": [
    {
     "name": "stderr",
     "output_type": "stream",
     "text": [
      "Using TensorFlow backend.\n"
     ]
    }
   ],
   "source": [
    "from glob import glob\n",
    "import numpy as np\n",
    "import sys, os, h5py, time, errno, random\n",
    "import GPUtil\n",
    "import MDAnalysis as mda\n",
    "from sklearn.cluster import DBSCAN\n",
    "\n",
    "from CVAE import CVAE \n",
    "from utils import start_rabbit, start_worker, start_flower_monitor, read_h5py_file, cm_to_cvae, job_on_gpu\n",
    "from utils import find_frame, write_pdb_frame, make_dir_p, outliers_from_cvae\n",
    "from utils import omm_job, cvae_job, job_list "
   ]
  },
  {
   "cell_type": "raw",
   "metadata": {},
   "source": [
    "GPUtil.showUtilization()"
   ]
  },
  {
   "cell_type": "code",
   "execution_count": 3,
   "metadata": {},
   "outputs": [
    {
     "name": "stdout",
     "output_type": "stream",
     "text": [
      "Available GPUs [0, 1]\n"
     ]
    }
   ],
   "source": [
    "GPU_ids = [gpu.id for gpu in GPUtil.getGPUs()] \n",
    "print('Available GPUs', GPU_ids) "
   ]
  },
  {
   "cell_type": "code",
   "execution_count": 4,
   "metadata": {},
   "outputs": [],
   "source": [
    "top_file = None\n",
    "pdb_file = os.path.abspath('./pdb/100-fs-peptide-400K.pdb')"
   ]
  },
  {
   "cell_type": "code",
   "execution_count": 5,
   "metadata": {},
   "outputs": [],
   "source": [
    "# number of cvae jobs \n",
    "n_cvae = 2"
   ]
  },
  {
   "cell_type": "markdown",
   "metadata": {},
   "source": [
    "# logs for scheudler"
   ]
  },
  {
   "cell_type": "code",
   "execution_count": 6,
   "metadata": {},
   "outputs": [],
   "source": [
    "work_dir = os.path.abspath('./')\n",
    "log_dir = os.path.join(work_dir, 'scheduler_logs') \n",
    "make_dir_p(log_dir)"
   ]
  },
  {
   "cell_type": "code",
   "execution_count": 7,
   "metadata": {},
   "outputs": [
    {
     "name": "stdout",
     "output_type": "stream",
     "text": [
      "Waiting 10 seconds for the server to stablize.\n"
     ]
    }
   ],
   "source": [
    "rabbitmq_log = os.path.join(log_dir, 'rabbit_server_log.txt') \n",
    "start_rabbit(rabbitmq_log)\n",
    "time.sleep(5)\n",
    "\n",
    "celery_worker_log = os.path.join(log_dir, 'celery_worker_log.txt') \n",
    "start_worker(celery_worker_log)\n",
    "start_flower_monitor() \n",
    "print('Waiting 10 seconds for the server to stablize.')\n",
    "time.sleep(10)"
   ]
  },
  {
   "cell_type": "markdown",
   "metadata": {},
   "source": [
    "## Jobs\n",
    "* Assign job_id according to the available GPUs on the board. \n",
    "* Start the simulation according the job_labels containing job_id and gpu_id for individual jobs "
   ]
  },
  {
   "cell_type": "code",
   "execution_count": 8,
   "metadata": {},
   "outputs": [],
   "source": [
    "jobs = job_list()"
   ]
  },
  {
   "cell_type": "code",
   "execution_count": 9,
   "metadata": {},
   "outputs": [
    {
     "name": "stdout",
     "output_type": "stream",
     "text": [
      "haha\n",
      "haha\n"
     ]
    }
   ],
   "source": [
    "for gpu_id in GPU_ids: \n",
    "    job = omm_job(job_id=int(time.time()), gpu_id=gpu_id, top_file=top_file, pdb_file=pdb_file)\n",
    "    job.start()\n",
    "    print('haha')\n",
    "    jobs.append(job) \n",
    "    time.sleep(2)"
   ]
  },
  {
   "cell_type": "code",
   "execution_count": 10,
   "metadata": {},
   "outputs": [
    {
     "data": {
      "text/plain": [
       "[<utils.omm_job at 0x7f793822d6d0>, <utils.omm_job at 0x7f79381b6d90>]"
      ]
     },
     "execution_count": 10,
     "metadata": {},
     "output_type": "execute_result"
    }
   ],
   "source": [
    "jobs"
   ]
  },
  {
   "cell_type": "raw",
   "metadata": {},
   "source": [
    "for gpu_id in GPU_ids: \n",
    "    job = omm_job(job_id=int(time.time()), gpu_id=gpu_id, top_file=top_file, pdb_file=pdb_file)\n",
    "#     job.start()\n",
    "    print('haha')\n",
    "    jobs.append(job) \n",
    "    time.sleep(2)"
   ]
  },
  {
   "cell_type": "raw",
   "metadata": {},
   "source": [
    "for job in jobs: \n",
    "    print job.stop()"
   ]
  },
  {
   "cell_type": "markdown",
   "metadata": {},
   "source": [
    "# Read the output h5 files"
   ]
  },
  {
   "cell_type": "code",
   "execution_count": 11,
   "metadata": {},
   "outputs": [
    {
     "name": "stdout",
     "output_type": "stream",
     "text": [
      "Waiting 5 mins for omm to write contact map .h5 files. \n"
     ]
    }
   ],
   "source": [
    "print('Waiting 5 mins for omm to write contact map .h5 files. ')\n",
    "time.sleep(120)"
   ]
  },
  {
   "cell_type": "code",
   "execution_count": 12,
   "metadata": {},
   "outputs": [],
   "source": [
    "cm_files = sorted(glob('omm*/*_cm.h5')) \n",
    "\n",
    "cm_data_lists = [read_h5py_file(cm_file) for cm_file in cm_files] "
   ]
  },
  {
   "cell_type": "code",
   "execution_count": 13,
   "metadata": {},
   "outputs": [
    {
     "data": {
      "text/plain": [
       "['omm_run_1543441282/output_cm.h5',\n",
       " 'omm_run_1543869635/output_cm.h5',\n",
       " 'omm_run_1543869637/output_cm.h5',\n",
       " 'omm_run_1543955163/output_cm.h5',\n",
       " 'omm_run_1543955165/output_cm.h5',\n",
       " 'omm_run_1543955875/output_cm.h5',\n",
       " 'omm_run_1543955877/output_cm.h5',\n",
       " 'omm_run_1543956978/output_cm.h5',\n",
       " 'omm_run_1543956980/output_cm.h5']"
      ]
     },
     "execution_count": 13,
     "metadata": {},
     "output_type": "execute_result"
    }
   ],
   "source": [
    "cm_files"
   ]
  },
  {
   "cell_type": "raw",
   "metadata": {},
   "source": [
    "for cm in cm_data_lists: \n",
    "    print cm.shape"
   ]
  },
  {
   "cell_type": "markdown",
   "metadata": {},
   "source": [
    "# Get updates from h5 file\n",
    "Once every minute"
   ]
  },
  {
   "cell_type": "code",
   "execution_count": 14,
   "metadata": {},
   "outputs": [
    {
     "data": {
      "text/plain": [
       "72669"
      ]
     },
     "execution_count": 14,
     "metadata": {},
     "output_type": "execute_result"
    }
   ],
   "source": [
    "frame_number = lambda lists: sum([cm.shape[1] for cm in lists])\n",
    "frame_number(cm_data_lists)"
   ]
  },
  {
   "cell_type": "code",
   "execution_count": 15,
   "metadata": {},
   "outputs": [],
   "source": [
    "frame_marker = 0 \n",
    "while frame_number(cm_data_lists) < 500: \n",
    "    for cm in cm_data_lists: \n",
    "        cm.refresh() \n",
    "    if frame_number(cm_data_lists) > frame_marker: \n",
    "        print('Current number of frames from OpenMM:', frame_number(cm_data_lists)) \n",
    "        frame_marker = int((100 + frame_marker) / 100) * 100\n",
    "        print('    Next report at frame', frame_marker) \n",
    "#     time.sleep(600)"
   ]
  },
  {
   "cell_type": "markdown",
   "metadata": {},
   "source": [
    "# All contact to h5"
   ]
  },
  {
   "cell_type": "code",
   "execution_count": 16,
   "metadata": {},
   "outputs": [],
   "source": [
    "train_data_length = [ cm_data.shape[1] for cm_data in cm_data_lists]\n",
    "\n",
    "omm_log = os.path.join(log_dir, 'openmm_log.txt') \n",
    "\n",
    "log = open(omm_log, 'w') \n",
    "\n",
    "for i, n_frame in enumerate(train_data_length): \n",
    "    log.writelines(\"{} {}\\n\".format(cm_files[i], n_frame))    \n",
    "log.close()"
   ]
  },
  {
   "cell_type": "code",
   "execution_count": 17,
   "metadata": {},
   "outputs": [],
   "source": [
    "cvae_input = cm_to_cvae(cm_data_lists)\n",
    "\n",
    "cvae_input_dir = os.path.join(work_dir, 'cvae_input') \n",
    "make_dir_p(cvae_input_dir)\n",
    "\n",
    "cvae_input_file = os.path.join(cvae_input_dir, 'cvae_input.h5')\n",
    "cvae_input_save = h5py.File(cvae_input_file, 'w')\n",
    "cvae_input_save.create_dataset('contact_maps', data=cvae_input)\n",
    "cvae_input_save.close() "
   ]
  },
  {
   "cell_type": "code",
   "execution_count": 18,
   "metadata": {},
   "outputs": [
    {
     "data": {
      "text/plain": [
       "(72669, 22, 22, 1)"
      ]
     },
     "execution_count": 18,
     "metadata": {},
     "output_type": "execute_result"
    }
   ],
   "source": [
    "cvae_input.shape"
   ]
  },
  {
   "cell_type": "raw",
   "metadata": {},
   "source": [
    "cvae_input_save = h5py.File('./cvae_input.h5', 'r')\n",
    "cvae_input_save.close()"
   ]
  },
  {
   "cell_type": "markdown",
   "metadata": {},
   "source": [
    "# CVAE"
   ]
  },
  {
   "cell_type": "code",
   "execution_count": 19,
   "metadata": {},
   "outputs": [],
   "source": [
    "hyper_dims = np.arange(n_cvae) + 3"
   ]
  },
  {
   "cell_type": "raw",
   "metadata": {},
   "source": [
    "job_on_gpu(0, jobs)"
   ]
  },
  {
   "cell_type": "code",
   "execution_count": 20,
   "metadata": {},
   "outputs": [],
   "source": [
    "# cvae_jobs = []\n",
    "for i in np.arange(n_cvae): \n",
    "    cvae_j = cvae_job(time.time(), i, cvae_input_file, hyper_dim=i+3) \n",
    "    stop_jobs = jobs.get_job_from_gpu_id(i) \n",
    "    stop_jobs.stop()  \n",
    "    time.sleep(2)\n",
    "#     print('hehre')\n",
    "    cvae_j.start() \n",
    "    jobs.append(cvae_j) \n",
    "#     cvae_jobs.append(cvae_j)\n",
    "    time.sleep(2)"
   ]
  },
  {
   "cell_type": "code",
   "execution_count": 21,
   "metadata": {},
   "outputs": [
    {
     "data": {
      "text/plain": [
       "False"
      ]
     },
     "execution_count": 21,
     "metadata": {},
     "output_type": "execute_result"
    }
   ],
   "source": [
    "os.path.isfile(cvae_j.model_weight)"
   ]
  },
  {
   "cell_type": "raw",
   "metadata": {},
   "source": [
    "avail_gpu = GPU_ids[:]\n",
    "\n",
    "for job in jobs.get_running_jobs():\n",
    "    avail_gpu.remove(job.gpu_id)\n",
    "\n",
    "avail_gpu"
   ]
  },
  {
   "cell_type": "code",
   "execution_count": 22,
   "metadata": {},
   "outputs": [
    {
     "name": "stdout",
     "output_type": "stream",
     "text": [
      "CVAE done. \n"
     ]
    }
   ],
   "source": [
    "while [os.path.isfile(cvae_j.model_weight) for cvae_j in jobs.get_cvae_jobs()] != [True] * len(jobs.get_cvae_jobs()): \n",
    "    time.sleep(.5)\n",
    "print('CVAE done. ') "
   ]
  },
  {
   "cell_type": "code",
   "execution_count": 23,
   "metadata": {},
   "outputs": [],
   "source": [
    "for cvae_j in jobs.get_cvae_jobs(): \n",
    "    cvae_j.state = 'FINISHED'"
   ]
  },
  {
   "cell_type": "code",
   "execution_count": 24,
   "metadata": {},
   "outputs": [
    {
     "data": {
      "text/plain": [
       "[]"
      ]
     },
     "execution_count": 24,
     "metadata": {},
     "output_type": "execute_result"
    }
   ],
   "source": [
    "jobs.get_running_jobs()"
   ]
  },
  {
   "cell_type": "code",
   "execution_count": 25,
   "metadata": {},
   "outputs": [
    {
     "data": {
      "text/plain": [
       "[<utils.omm_job at 0x7f793822d6d0>,\n",
       " <utils.omm_job at 0x7f79381b6d90>,\n",
       " <utils.cvae_job at 0x7f7938126ad0>,\n",
       " <utils.cvae_job at 0x7f79358ffb90>]"
      ]
     },
     "execution_count": 25,
     "metadata": {},
     "output_type": "execute_result"
    }
   ],
   "source": [
    "jobs"
   ]
  },
  {
   "cell_type": "markdown",
   "metadata": {},
   "source": [
    "# CVE result"
   ]
  },
  {
   "cell_type": "raw",
   "metadata": {},
   "source": [
    "def predict_from_cvae(model_weight, cvae_input, hyper_dim=3): \n",
    "    os.environ[\"CUDA_DEVICE_ORDER\"]=\"PCI_BUS_ID\"\n",
    "    os.environ[\"CUDA_VISIBLE_DEVICES\"]=str(0)  \n",
    "    cvae = CVAE(cvae_input.shape[1:], hyper_dim) \n",
    "    cvae.model.load_weights(model_weight)\n",
    "    cm_predict = cvae.return_embeddings(cvae_input) \n",
    "    return cm_predict"
   ]
  },
  {
   "cell_type": "raw",
   "metadata": {},
   "source": [
    "model_weight = model_weights[0]\n",
    "cm_predict = predict_from_cvae(model_weight, cvae_input, hyper_dim=int(model_weight[11]))"
   ]
  },
  {
   "cell_type": "raw",
   "metadata": {},
   "source": [
    "from mpl_toolkits.mplot3d import Axes3D"
   ]
  },
  {
   "cell_type": "raw",
   "metadata": {},
   "source": [
    "# db = DBSCAN(eps=0.3, min_samples=10).fit(cm_predict)\n",
    "db_label = np.zeros(len(cm_predict)).astype(np.float)"
   ]
  },
  {
   "cell_type": "raw",
   "metadata": {},
   "source": [
    "for eps in np.arange(0.3, 2, 0.05): \n",
    "    outliers = np.squeeze(outliers_from_cvae(model_weight, cvae_input, hyper_dim=int(model_weight[11]), eps=eps))\n",
    "    n_outlier = len(outliers) \n",
    "    print(n_outlier)\n",
    "    db_label[outliers] = (eps*100 + 1) \n",
    "    if n_outlier <= 20: \n",
    "        break"
   ]
  },
  {
   "cell_type": "raw",
   "metadata": {},
   "source": [
    "x, y, z = cm_predict[:,0], cm_predict[:,1], cm_predict[:,2]\n",
    "\n",
    "fig, ax = plt.subplots(subplot_kw=dict(projection='3d'))\n",
    "\n",
    "# ls = LightSource(270, 45)\n",
    "# To use a custom hillshading mode, override the built-in shading and pass\n",
    "# in the rgb colors of the shaded surface calculated from \"shade\".\n",
    "# rgb = ls.shade(z, cmap=cm.gist_earth, vert_exag=0.1, blend_mode='soft')\n",
    "sc = ax.scatter(x, y, z, c=db_label)\n",
    "plt.colorbar(sc)\n",
    "plt.show()"
   ]
  },
  {
   "cell_type": "markdown",
   "metadata": {},
   "source": [
    "# Identifier base on CVAE result"
   ]
  },
  {
   "cell_type": "code",
   "execution_count": 26,
   "metadata": {},
   "outputs": [
    {
     "name": "stdout",
     "output_type": "stream",
     "text": [
      "Counting outliers\n",
      "Model latent dimension:  3\n",
      "dimension = 3, eps = 0.20, number of outlier found: 115\n",
      "dimension = 3, eps = 0.25, number of outlier found: 36\n",
      "Model latent dimension:  4\n",
      "dimension = 4, eps = 0.20, number of outlier found: 6196\n",
      "dimension = 4, eps = 0.25, number of outlier found: 1779\n",
      "dimension = 4, eps = 0.30, number of outlier found: 506\n",
      "dimension = 4, eps = 0.35, number of outlier found: 153\n",
      "dimension = 4, eps = 0.40, number of outlier found: 76\n",
      "dimension = 4, eps = 0.45, number of outlier found: 33\n"
     ]
    }
   ],
   "source": [
    "# All the outliers from cvae\n",
    "print('Counting outliers') \n",
    "model_weights = [cvae_j.model_weight for cvae_j in jobs.get_cvae_jobs()]\n",
    "outlier_list = []\n",
    "for model_weight in model_weights: \n",
    "    print('Model latent dimension: ', int(model_weight[11]))\n",
    "    for eps in np.arange(0.20, 2.0, 0.05): \n",
    "        outliers = np.squeeze(outliers_from_cvae(model_weight, cvae_input, hyper_dim=int(model_weight[11]), eps=eps))\n",
    "        n_outlier = len(outliers)\n",
    "        print('dimension = {0}, eps = {1:.2f}, number of outlier found: {2}'.format(\n",
    "            model_weight[11], eps, n_outlier))\n",
    "        if n_outlier <= 50: \n",
    "            outlier_list.append(outliers)\n",
    "            break\n",
    "\n",
    "# np.save('outlier_list.npy', np.array(outlier_list))\n",
    "outlier_list_uni = np.unique(np.hstack(outlier_list)) "
   ]
  },
  {
   "cell_type": "raw",
   "metadata": {},
   "source": [
    "outlier_pdb_files = []\n",
    "for outlier in outlier_list[0]: \n",
    "    traj_file, num_frame = find_frame(traj_dict, outlier) \n",
    "    print('Found outlier# {} at frame {} of {}'.format(outlier, num_frame, traj_file))\n",
    "    outlier_pdb_file = os.path.join(outliers_pdb, '{}_{}_{}.pdb'.format(outlier, traj_file[:18], num_frame))\n",
    "    outlier_pdb = write_pdb_frame(traj_file, pdb_file, num_frame, outlier_pdb_file) \n",
    "    outlier_pdb_files.append(outlier_pdb_file) "
   ]
  },
  {
   "cell_type": "code",
   "execution_count": 45,
   "metadata": {},
   "outputs": [
    {
     "name": "stdout",
     "output_type": "stream",
     "text": [
      "Writing pdb files\n",
      "Found outlier# 1064 at frame 1064 of omm_run_1543441282/output.dcd\n",
      "Found outlier# 1162 at frame 1162 of omm_run_1543441282/output.dcd\n",
      "Found outlier# 1167 at frame 1167 of omm_run_1543441282/output.dcd\n",
      "Found outlier# 1645 at frame 1645 of omm_run_1543441282/output.dcd\n",
      "Found outlier# 4625 at frame 4625 of omm_run_1543441282/output.dcd\n",
      "Found outlier# 5342 at frame 5342 of omm_run_1543441282/output.dcd\n",
      "Found outlier# 5353 at frame 5353 of omm_run_1543441282/output.dcd\n",
      "Found outlier# 5354 at frame 5354 of omm_run_1543441282/output.dcd\n",
      "Found outlier# 5355 at frame 5355 of omm_run_1543441282/output.dcd\n",
      "Found outlier# 5358 at frame 5358 of omm_run_1543441282/output.dcd\n",
      "Found outlier# 6683 at frame 6683 of omm_run_1543441282/output.dcd\n",
      "Found outlier# 6695 at frame 6695 of omm_run_1543441282/output.dcd\n",
      "Found outlier# 6697 at frame 6697 of omm_run_1543441282/output.dcd\n",
      "Found outlier# 6710 at frame 6710 of omm_run_1543441282/output.dcd\n",
      "Found outlier# 6714 at frame 6714 of omm_run_1543441282/output.dcd\n",
      "Found outlier# 6855 at frame 6855 of omm_run_1543441282/output.dcd\n",
      "Found outlier# 7304 at frame 7304 of omm_run_1543441282/output.dcd\n",
      "Found outlier# 7305 at frame 7305 of omm_run_1543441282/output.dcd\n",
      "Found outlier# 7307 at frame 7307 of omm_run_1543441282/output.dcd\n",
      "Found outlier# 7881 at frame 7881 of omm_run_1543441282/output.dcd\n",
      "Found outlier# 8125 at frame 8125 of omm_run_1543441282/output.dcd\n",
      "Found outlier# 8189 at frame 8189 of omm_run_1543441282/output.dcd\n",
      "Found outlier# 8798 at frame 8798 of omm_run_1543441282/output.dcd\n",
      "Found outlier# 8914 at frame 8914 of omm_run_1543441282/output.dcd\n",
      "Found outlier# 9090 at frame 9090 of omm_run_1543441282/output.dcd\n",
      "Found outlier# 9122 at frame 9122 of omm_run_1543441282/output.dcd\n",
      "Found outlier# 9556 at frame 9556 of omm_run_1543441282/output.dcd\n",
      "Found outlier# 9830 at frame 9830 of omm_run_1543441282/output.dcd\n",
      "Found outlier# 20829 at frame 20829 of omm_run_1543441282/output.dcd\n",
      "Found outlier# 26958 at frame 941 of omm_run_1543869635/output.dcd\n",
      "Found outlier# 27292 at frame 1275 of omm_run_1543869635/output.dcd\n",
      "Found outlier# 28781 at frame 2764 of omm_run_1543869635/output.dcd\n",
      "Found outlier# 29354 at frame 3337 of omm_run_1543869635/output.dcd\n",
      "Found outlier# 29918 at frame 3901 of omm_run_1543869635/output.dcd\n",
      "Found outlier# 29938 at frame 3921 of omm_run_1543869635/output.dcd\n",
      "Found outlier# 29959 at frame 3942 of omm_run_1543869635/output.dcd\n",
      "Found outlier# 33440 at frame 7423 of omm_run_1543869635/output.dcd\n",
      "Found outlier# 33754 at frame 7737 of omm_run_1543869635/output.dcd\n",
      "Found outlier# 33779 at frame 7762 of omm_run_1543869635/output.dcd\n",
      "Found outlier# 34161 at frame 8144 of omm_run_1543869635/output.dcd\n",
      "Found outlier# 34324 at frame 8307 of omm_run_1543869635/output.dcd\n",
      "Found outlier# 35449 at frame 9432 of omm_run_1543869635/output.dcd\n",
      "Found outlier# 35743 at frame 9726 of omm_run_1543869635/output.dcd\n",
      "Found outlier# 35829 at frame 9812 of omm_run_1543869635/output.dcd\n",
      "Found outlier# 36682 at frame 10665 of omm_run_1543869635/output.dcd\n",
      "Found outlier# 45269 at frame 19252 of omm_run_1543869635/output.dcd\n",
      "Found outlier# 45272 at frame 19255 of omm_run_1543869635/output.dcd\n",
      "Found outlier# 45281 at frame 19264 of omm_run_1543869635/output.dcd\n",
      "Found outlier# 45740 at frame 19723 of omm_run_1543869635/output.dcd\n",
      "Found outlier# 46693 at frame 20676 of omm_run_1543869635/output.dcd\n",
      "Found outlier# 46754 at frame 20737 of omm_run_1543869635/output.dcd\n",
      "Found outlier# 46926 at frame 20909 of omm_run_1543869635/output.dcd\n",
      "Found outlier# 47075 at frame 21058 of omm_run_1543869635/output.dcd\n",
      "Found outlier# 49644 at frame 409 of omm_run_1543869637/output.dcd\n",
      "Found outlier# 50543 at frame 1308 of omm_run_1543869637/output.dcd\n",
      "Found outlier# 51300 at frame 2065 of omm_run_1543869637/output.dcd\n",
      "Found outlier# 51757 at frame 2522 of omm_run_1543869637/output.dcd\n",
      "Found outlier# 51934 at frame 2699 of omm_run_1543869637/output.dcd\n",
      "Found outlier# 52183 at frame 2948 of omm_run_1543869637/output.dcd\n",
      "Found outlier# 52674 at frame 3439 of omm_run_1543869637/output.dcd\n",
      "Found outlier# 53070 at frame 3835 of omm_run_1543869637/output.dcd\n",
      "Found outlier# 54350 at frame 5115 of omm_run_1543869637/output.dcd\n",
      "Found outlier# 54498 at frame 5263 of omm_run_1543869637/output.dcd\n",
      "Found outlier# 54529 at frame 5294 of omm_run_1543869637/output.dcd\n",
      "Found outlier# 54534 at frame 5299 of omm_run_1543869637/output.dcd\n",
      "Found outlier# 55873 at frame 6638 of omm_run_1543869637/output.dcd\n",
      "Found outlier# 57354 at frame 8119 of omm_run_1543869637/output.dcd\n",
      "Found outlier# 57371 at frame 8136 of omm_run_1543869637/output.dcd\n",
      "Found outlier# 57394 at frame 8159 of omm_run_1543869637/output.dcd\n"
     ]
    }
   ],
   "source": [
    "print('Writing pdb files') \n",
    "# write the pdb according the outlier indices\n",
    "traj_info = open('./scheduler_logs/openmm_log.txt', 'r').read().split()\n",
    "\n",
    "traj_dict = dict(zip(traj_info[::2], np.array(traj_info[1::2]).astype(int)))\n",
    "\n",
    "outliers_pdb_path = os.path.join(work_dir, 'outlier_pdbs')\n",
    "make_dir_p(outliers_pdb_path)\n",
    "\n",
    "# outliers_list_file = os.path.join(outliers_pdb_path, 'outlier_list.txt') \n",
    "outlier_pdb_files = []\n",
    "for outlier in outlier_list_uni: \n",
    "    traj_file, num_frame = find_frame(traj_dict, outlier) \n",
    "    print('Found outlier# {} at frame {} of {}'.format(outlier, num_frame, traj_file))\n",
    "    outlier_pdb_file = os.path.join(outliers_pdb_path, '{}_{}.pdb'.format(traj_file[:18], num_frame))\n",
    "    outlier_pdb = write_pdb_frame(traj_file, pdb_file, num_frame, outlier_pdb_file) \n",
    "    outlier_pdb_files.append(outlier_pdb_file) "
   ]
  },
  {
   "cell_type": "code",
   "execution_count": 28,
   "metadata": {},
   "outputs": [
    {
     "name": "stderr",
     "output_type": "stream",
     "text": [
      "/home/hm0/anaconda2/lib/python2.7/site-packages/MDAnalysis/coordinates/base.py:821: UserWarning: Reader has no dt information, set to 1.0 ps\n",
      "  warnings.warn(\"Reader has no dt information, set to 1.0 ps\")\n"
     ]
    }
   ],
   "source": [
    "outlier_traj = mda.Universe(outlier_pdb_files[0], outlier_pdb_files)\n",
    "\n",
    "from MDAnalysis.analysis.rms import RMSD \n",
    "RMSD_mat = []\n",
    "for i in range(outlier_traj.trajectory.n_frames): \n",
    "    ref_traj = mda.Universe(outlier_pdb_files[i])\n",
    "    R = RMSD(outlier_traj, ref_traj, select = 'protein and name CA') \n",
    "    R.run()\n",
    "    RMSD_mat.append(R.rmsd[:,2])\n",
    "\n",
    "import matplotlib.pyplot as plt\n",
    "plt.imshow(RMSD_mat)\n",
    "plt.savefig('rmsd.png')"
   ]
  },
  {
   "cell_type": "code",
   "execution_count": 29,
   "metadata": {},
   "outputs": [
    {
     "data": {
      "image/png": "[encoded data removed]",
      "text/plain": [
       "<Figure size 432x288 with 1 Axes>"
      ]
     },
     "metadata": {},
     "output_type": "display_data"
    }
   ],
   "source": [
    "outlier_traj = mda.Universe(outlier_pdb_files[0], outlier_pdb_files)\n",
    "ref_traj = mda.Universe('./pdb/fs-peptide.pdb')\n",
    "from MDAnalysis.analysis.rms import RMSD \n",
    "\n",
    "R = RMSD(outlier_traj, ref_traj, select = 'protein and name CA') \n",
    "R.run()\n",
    "\n",
    "import matplotlib.pyplot as plt\n",
    "plt.plot(R.rmsd[:,2])\n",
    "plt.savefig('rmsd.png')"
   ]
  },
  {
   "cell_type": "code",
   "execution_count": 30,
   "metadata": {},
   "outputs": [
    {
     "data": {
      "image/png": "[encoded data removed]",
      "text/plain": [
       "<Figure size 432x288 with 1 Axes>"
      ]
     },
     "metadata": {},
     "output_type": "display_data"
    }
   ],
   "source": [
    "hist, _, _ = plt.hist(R.rmsd[:,2])"
   ]
  },
  {
   "cell_type": "code",
   "execution_count": 31,
   "metadata": {},
   "outputs": [
    {
     "data": {
      "image/png": "[encoded data removed]",
      "text/plain": [
       "<Figure size 720x720 with 1 Axes>"
      ]
     },
     "metadata": {},
     "output_type": "display_data"
    }
   ],
   "source": [
    "outlier_traj = mda.Universe(outlier_pdb_files[0], 'omm_run_1543441282/output.dcd')\n",
    "trajs = glob('omm_run*/output.dcd')\n",
    "ref_traj = mda.Universe('./pdb/fs-peptide.pdb')\n",
    "from MDAnalysis.analysis.rms import RMSD \n",
    "import matplotlib.pyplot as plt\n",
    "\n",
    "fig, ax = plt.subplots(figsize=(10,10))\n",
    "\n",
    "for traj in trajs: \n",
    "    mda_traj = mda.Universe(outlier_pdb_files[0], traj)\n",
    "    R = RMSD(mda_traj, ref_traj, select = 'protein and name CA') \n",
    "    R.run()\n",
    "    ax.plot(R.rmsd[:,2], label=traj[:19])\n",
    "# plt.scatter(i, R.rmsd[i,2], c='red',s=40)\n",
    "ax.legend(loc='best')\n",
    "plt.savefig('rmsd.png')"
   ]
  },
  {
   "cell_type": "raw",
   "metadata": {},
   "source": [
    "outlier_traj = mda.Universe(outlier_pdb_files[0], outlier_pdb_files)\n",
    "\n",
    "with mda.Writer(\"./pdb/21_conformers_3d/fs-pep.xtc\", outlier_traj.atoms.n_atoms) as W:\n",
    "    for ts in outlier_traj.trajectory:\n",
    "        W.write(outlier_traj)"
   ]
  },
  {
   "cell_type": "code",
   "execution_count": 32,
   "metadata": {},
   "outputs": [
    {
     "name": "stdout",
     "output_type": "stream",
     "text": [
      "0\n",
      "1\n"
     ]
    }
   ],
   "source": [
    "for gpu_id in jobs.get_available_gpu(GPU_ids): \n",
    "    print(gpu_id)"
   ]
  },
  {
   "cell_type": "markdown",
   "metadata": {},
   "source": [
    "# start new sims"
   ]
  },
  {
   "cell_type": "code",
   "execution_count": 33,
   "metadata": {},
   "outputs": [
    {
     "name": "stdout",
     "output_type": "stream",
     "text": [
      "haha\n",
      "haha\n"
     ]
    }
   ],
   "source": [
    "for gpu_id in jobs.get_available_gpu(GPU_ids): \n",
    "    random.shuffle(outlier_pdb_files)\n",
    "    outlier_pdb_file = outlier_pdb_files[0]\n",
    "    job = omm_job(job_id=int(time.time()), gpu_id=gpu_id, top_file=top_file, pdb_file=outlier_pdb_file)\n",
    "    outlier_pdb_files.remove(outlier_pdb_file) \n",
    "    job.start()\n",
    "    print('haha')\n",
    "    jobs.append(job) \n",
    "    time.sleep(2)"
   ]
  },
  {
   "cell_type": "markdown",
   "metadata": {},
   "source": [
    "# New outliers"
   ]
  },
  {
   "cell_type": "code",
   "execution_count": 34,
   "metadata": {},
   "outputs": [],
   "source": [
    "time.sleep(120)"
   ]
  },
  {
   "cell_type": "raw",
   "metadata": {},
   "source": [
    "for job in jobs.get_running_omm_jobs(): \n",
    "    job.stop()"
   ]
  },
  {
   "cell_type": "code",
   "execution_count": 35,
   "metadata": {},
   "outputs": [],
   "source": [
    "cm_files_iter = sorted(glob('omm*/*_cm.h5')) \n",
    "\n",
    "for cm_file in cm_files_iter: \n",
    "    if cm_file not in cm_files: \n",
    "        cm_files.append(cm_file)\n",
    "        cm_data_lists.append(read_h5py_file(cm_file)) "
   ]
  },
  {
   "cell_type": "code",
   "execution_count": null,
   "metadata": {},
   "outputs": [],
   "source": []
  },
  {
   "cell_type": "raw",
   "metadata": {},
   "source": [
    "cm_data_lists = [read_h5py_file(cm_file) for cm_file in cm_files] "
   ]
  },
  {
   "cell_type": "code",
   "execution_count": 36,
   "metadata": {},
   "outputs": [],
   "source": [
    "for cm in cm_data_lists: \n",
    "    cm.refresh() "
   ]
  },
  {
   "cell_type": "code",
   "execution_count": 37,
   "metadata": {},
   "outputs": [
    {
     "data": {
      "text/plain": [
       "72848"
      ]
     },
     "execution_count": 37,
     "metadata": {},
     "output_type": "execute_result"
    }
   ],
   "source": [
    "frame_number(cm_data_lists)"
   ]
  },
  {
   "cell_type": "code",
   "execution_count": 38,
   "metadata": {},
   "outputs": [
    {
     "data": {
      "text/plain": [
       "72848"
      ]
     },
     "execution_count": 38,
     "metadata": {},
     "output_type": "execute_result"
    }
   ],
   "source": [
    "frame_number(cm_data_lists)"
   ]
  },
  {
   "cell_type": "code",
   "execution_count": 39,
   "metadata": {},
   "outputs": [],
   "source": [
    "train_data_length = [cm_data.shape[1] for cm_data in cm_data_lists]\n",
    "\n",
    "log = open(omm_log, 'w') \n",
    "\n",
    "for i, n_frame in enumerate(train_data_length): \n",
    "    log.writelines(\"{} {}\\n\".format(cm_files[i], n_frame))    \n",
    "log.close()"
   ]
  },
  {
   "cell_type": "code",
   "execution_count": 40,
   "metadata": {},
   "outputs": [],
   "source": [
    "cvae_input = cm_to_cvae(cm_data_lists)"
   ]
  },
  {
   "cell_type": "code",
   "execution_count": 41,
   "metadata": {},
   "outputs": [
    {
     "data": {
      "text/plain": [
       "(72848, 22, 22, 1)"
      ]
     },
     "execution_count": 41,
     "metadata": {},
     "output_type": "execute_result"
    }
   ],
   "source": [
    "cvae_input.shape"
   ]
  },
  {
   "cell_type": "code",
   "execution_count": 42,
   "metadata": {},
   "outputs": [
    {
     "name": "stdout",
     "output_type": "stream",
     "text": [
      "Counting outliers\n",
      "Model latent dimension:  3\n",
      "dimension = 3, eps = 0.20, number of outlier found: 115\n",
      "dimension = 3, eps = 0.25, number of outlier found: 36\n",
      "Model latent dimension:  4\n",
      "dimension = 4, eps = 0.20, number of outlier found: 6197\n",
      "dimension = 4, eps = 0.25, number of outlier found: 1777\n",
      "dimension = 4, eps = 0.30, number of outlier found: 506\n",
      "dimension = 4, eps = 0.35, number of outlier found: 153\n",
      "dimension = 4, eps = 0.40, number of outlier found: 76\n",
      "dimension = 4, eps = 0.45, number of outlier found: 33\n"
     ]
    }
   ],
   "source": [
    "# All the outliers from cvae\n",
    "print('Counting outliers') \n",
    "model_weights = [cvae_j.model_weight for cvae_j in jobs.get_cvae_jobs()]\n",
    "outlier_list = []\n",
    "for model_weight in model_weights: \n",
    "    print('Model latent dimension: ', int(model_weight[11]))\n",
    "    for eps in np.arange(0.20, 2.0, 0.05): \n",
    "        outliers = np.squeeze(outliers_from_cvae(model_weight, cvae_input, hyper_dim=int(model_weight[11]), eps=eps))\n",
    "        n_outlier = len(outliers)\n",
    "        print('dimension = {0}, eps = {1:.2f}, number of outlier found: {2}'.format(\n",
    "            model_weight[11], eps, n_outlier))\n",
    "        if n_outlier <= 50: \n",
    "            outlier_list.append(outliers)\n",
    "            break\n",
    "\n",
    "np.save('outlier_list.npy', np.array(outlier_list))\n",
    "outlier_list_uni, outlier_count = np.unique(np.hstack(outlier_list), return_counts=True) \n",
    "# outlier_list_ulti = outlier_list_uni[np.where(outlier_count > 1)]\n",
    "# print('outliers: ', outlier_list_ulti)"
   ]
  },
  {
   "cell_type": "code",
   "execution_count": 43,
   "metadata": {},
   "outputs": [
    {
     "name": "stdout",
     "output_type": "stream",
     "text": [
      "Writing pdb files\n"
     ]
    }
   ],
   "source": [
    "print('Writing pdb files') \n",
    "# write the pdb according the outlier indices\n",
    "traj_info = open('./scheduler_logs/openmm_log.txt', 'r').read().split()\n",
    "\n",
    "traj_dict = dict(zip(traj_info[::2], np.array(traj_info[1::2]).astype(int)))\n",
    "\n",
    "break_loop = False\n",
    "for outlier in outlier_list_uni:\n",
    "    traj_file, num_frame = find_frame(traj_dict, outlier)    \n",
    "    outlier_pdb_file = os.path.join(outliers_pdb, '{}_{}.pdb'.format(traj_file[:18], num_frame))\n",
    "#     if outlier_pdb_file not in outlier_pdb_files:\n",
    "# print('Found outlier# {} at frame {} of {}'.format(outlier, num_frame, traj_file))\n",
    "#         outlier_pdb = write_pdb_frame(traj_file, pdb_file, num_frame, outlier_pdb_file)\n",
    "#         outlier_pdb_files.append(outlier_pdb_file)\n",
    "#         break_loop = True"
   ]
  },
  {
   "cell_type": "code",
   "execution_count": null,
   "metadata": {},
   "outputs": [],
   "source": []
  }
 ],
 "metadata": {
  "kernelspec": {
   "display_name": "Python 2",
   "language": "python",
   "name": "python2"
  },
  "language_info": {
   "codemirror_mode": {
    "name": "ipython",
    "version": 2
   },
   "file_extension": ".py",
   "mimetype": "text/x-python",
   "name": "python",
   "nbconvert_exporter": "python",
   "pygments_lexer": "ipython2",
   "version": "2.7.14"
  }
 },
 "nbformat": 4,
 "nbformat_minor": 2
}
