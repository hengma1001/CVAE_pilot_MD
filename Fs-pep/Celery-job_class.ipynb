{
 "cells": [
  {
   "cell_type": "code",
   "execution_count": 1,
   "metadata": {},
   "outputs": [],
   "source": [
    "from __future__ import print_function"
   ]
  },
  {
   "cell_type": "code",
   "execution_count": 2,
   "metadata": {},
   "outputs": [
    {
     "name": "stderr",
     "output_type": "stream",
     "text": [
      "Using TensorFlow backend.\n"
     ]
    }
   ],
   "source": [
    "from glob import glob\n",
    "import numpy as np\n",
    "import sys, os, h5py, time, errno, random\n",
    "import GPUtil\n",
    "import MDAnalysis as mda\n",
    "from sklearn.cluster import DBSCAN\n",
    "\n",
    "from CVAE import CVAE \n",
    "from utils import start_rabbit, start_worker, start_flower_monitor, read_h5py_file, cm_to_cvae, job_on_gpu\n",
    "from utils import find_frame, write_pdb_frame, make_dir_p, outliers_from_cvae\n",
    "from utils import omm_job, cvae_job, job_list "
   ]
  },
  {
   "cell_type": "raw",
   "metadata": {},
   "source": [
    "GPUtil.showUtilization()"
   ]
  },
  {
   "cell_type": "code",
   "execution_count": 3,
   "metadata": {},
   "outputs": [
    {
     "name": "stdout",
     "output_type": "stream",
     "text": [
      "Available GPUs [0, 1]\n"
     ]
    }
   ],
   "source": [
    "GPU_ids = [gpu.id for gpu in GPUtil.getGPUs()] \n",
    "print('Available GPUs', GPU_ids) "
   ]
  },
  {
   "cell_type": "code",
   "execution_count": 51,
   "metadata": {},
   "outputs": [],
   "source": [
    "top_file = None\n",
    "pdb_file = os.path.abspath('./pdb/100-fs-peptide-400K.pdb')"
   ]
  },
  {
   "cell_type": "code",
   "execution_count": 5,
   "metadata": {},
   "outputs": [],
   "source": [
    "# number of cvae jobs \n",
    "n_cvae = 2"
   ]
  },
  {
   "cell_type": "markdown",
   "metadata": {},
   "source": [
    "# logs for scheudler"
   ]
  },
  {
   "cell_type": "code",
   "execution_count": 6,
   "metadata": {},
   "outputs": [],
   "source": [
    "work_dir = os.path.abspath('./')\n",
    "log_dir = os.path.join(work_dir, 'scheduler_logs') \n",
    "make_dir_p(log_dir)"
   ]
  },
  {
   "cell_type": "code",
   "execution_count": 7,
   "metadata": {},
   "outputs": [
    {
     "name": "stdout",
     "output_type": "stream",
     "text": [
      "Waiting 10 seconds for the server to stablize.\n"
     ]
    }
   ],
   "source": [
    "rabbitmq_log = os.path.join(log_dir, 'rabbit_server_log.txt') \n",
    "start_rabbit(rabbitmq_log)\n",
    "time.sleep(5)\n",
    "\n",
    "celery_worker_log = os.path.join(log_dir, 'celery_worker_log.txt') \n",
    "start_worker(celery_worker_log)\n",
    "start_flower_monitor() \n",
    "print('Waiting 10 seconds for the server to stablize.')\n",
    "time.sleep(10)"
   ]
  },
  {
   "cell_type": "markdown",
   "metadata": {},
   "source": [
    "## Jobs\n",
    "* Assign job_id according to the available GPUs on the board. \n",
    "* Start the simulation according the job_labels containing job_id and gpu_id for individual jobs "
   ]
  },
  {
   "cell_type": "code",
   "execution_count": 8,
   "metadata": {},
   "outputs": [],
   "source": [
    "jobs = job_list()"
   ]
  },
  {
   "cell_type": "code",
   "execution_count": 9,
   "metadata": {},
   "outputs": [
    {
     "name": "stdout",
     "output_type": "stream",
     "text": [
      "haha\n",
      "haha\n"
     ]
    }
   ],
   "source": [
    "for gpu_id in GPU_ids: \n",
    "    job = omm_job(job_id=int(time.time()), gpu_id=gpu_id, top_file=top_file, pdb_file=pdb_file)\n",
    "    job.start()\n",
    "    print('haha')\n",
    "    jobs.append(job) \n",
    "    time.sleep(2)"
   ]
  },
  {
   "cell_type": "code",
   "execution_count": 10,
   "metadata": {},
   "outputs": [
    {
     "data": {
      "text/plain": [
       "[<utils.omm_job at 0x7f408d1fb610>, <utils.omm_job at 0x7f408d186d10>]"
      ]
     },
     "execution_count": 10,
     "metadata": {},
     "output_type": "execute_result"
    }
   ],
   "source": [
    "jobs"
   ]
  },
  {
   "cell_type": "raw",
   "metadata": {},
   "source": [
    "for gpu_id in GPU_ids: \n",
    "    job = omm_job(job_id=int(time.time()), gpu_id=gpu_id, top_file=top_file, pdb_file=pdb_file)\n",
    "#     job.start()\n",
    "    print('haha')\n",
    "    jobs.append(job) \n",
    "    time.sleep(2)"
   ]
  },
  {
   "cell_type": "raw",
   "metadata": {},
   "source": [
    "for job in jobs: \n",
    "    print job.stop()"
   ]
  },
  {
   "cell_type": "markdown",
   "metadata": {},
   "source": [
    "# Read the output h5 files"
   ]
  },
  {
   "cell_type": "code",
   "execution_count": 11,
   "metadata": {},
   "outputs": [
    {
     "name": "stdout",
     "output_type": "stream",
     "text": [
      "Waiting 5 mins for omm to write contact map .h5 files. \n"
     ]
    }
   ],
   "source": [
    "print('Waiting 5 mins for omm to write contact map .h5 files. ')\n",
    "time.sleep(120)"
   ]
  },
  {
   "cell_type": "code",
   "execution_count": 12,
   "metadata": {},
   "outputs": [],
   "source": [
    "cm_files = sorted(glob('omm*/*_cm.h5')) \n",
    "\n",
    "cm_data_lists = [read_h5py_file(cm_file) for cm_file in cm_files] "
   ]
  },
  {
   "cell_type": "code",
   "execution_count": 13,
   "metadata": {},
   "outputs": [
    {
     "data": {
      "text/plain": [
       "['omm_run_1543441282/output_cm.h5',\n",
       " 'omm_run_1543849912/output_cm.h5',\n",
       " 'omm_run_1543849914/output_cm.h5',\n",
       " 'omm_run_1543863797/output_cm.h5',\n",
       " 'omm_run_1543864245/output_cm.h5',\n",
       " 'omm_run_1543864247/output_cm.h5',\n",
       " 'omm_run_1543864552/output_cm.h5',\n",
       " 'omm_run_1543864554/output_cm.h5',\n",
       " 'omm_run_1543864687/output_cm.h5',\n",
       " 'omm_run_1543864689/output_cm.h5',\n",
       " 'omm_run_1543864780/output_cm.h5',\n",
       " 'omm_run_1543864782/output_cm.h5',\n",
       " 'omm_run_1543867590/output_cm.h5',\n",
       " 'omm_run_1543867592/output_cm.h5',\n",
       " 'omm_run_1543868438/output_cm.h5',\n",
       " 'omm_run_1543868440/output_cm.h5']"
      ]
     },
     "execution_count": 13,
     "metadata": {},
     "output_type": "execute_result"
    }
   ],
   "source": [
    "cm_files"
   ]
  },
  {
   "cell_type": "raw",
   "metadata": {},
   "source": [
    "for cm in cm_data_lists: \n",
    "    print cm.shape"
   ]
  },
  {
   "cell_type": "markdown",
   "metadata": {},
   "source": [
    "# Get updates from h5 file\n",
    "Once every minute"
   ]
  },
  {
   "cell_type": "code",
   "execution_count": 117,
   "metadata": {},
   "outputs": [
    {
     "data": {
      "text/plain": [
       "30493"
      ]
     },
     "execution_count": 117,
     "metadata": {},
     "output_type": "execute_result"
    }
   ],
   "source": [
    "frame_number = lambda lists: sum([cm.shape[1] for cm in lists])\n",
    "frame_number(cm_data_lists)"
   ]
  },
  {
   "cell_type": "code",
   "execution_count": 15,
   "metadata": {},
   "outputs": [],
   "source": [
    "frame_marker = 0 \n",
    "while frame_number(cm_data_lists) < 500: \n",
    "    for cm in cm_data_lists: \n",
    "        cm.refresh() \n",
    "    if frame_number(cm_data_lists) > frame_marker: \n",
    "        print('Current number of frames from OpenMM:', frame_number(cm_data_lists)) \n",
    "        frame_marker = int((100 + frame_marker) / 100) * 100\n",
    "        print('    Next report at frame', frame_marker) \n",
    "#     time.sleep(600)"
   ]
  },
  {
   "cell_type": "markdown",
   "metadata": {},
   "source": [
    "# All contact to h5"
   ]
  },
  {
   "cell_type": "code",
   "execution_count": 16,
   "metadata": {},
   "outputs": [],
   "source": [
    "train_data_length = [ cm_data.shape[1] for cm_data in cm_data_lists]\n",
    "\n",
    "omm_log = os.path.join(log_dir, 'openmm_log.txt') \n",
    "\n",
    "log = open(omm_log, 'w') \n",
    "\n",
    "for i, n_frame in enumerate(train_data_length): \n",
    "    log.writelines(\"{} {}\\n\".format(cm_files[i], n_frame))    \n",
    "log.close()"
   ]
  },
  {
   "cell_type": "code",
   "execution_count": 18,
   "metadata": {},
   "outputs": [],
   "source": [
    "cvae_input = cm_to_cvae(cm_data_lists)\n",
    "\n",
    "cvae_input_dir = os.path.join(work_dir, 'cvae_input') \n",
    "make_dir_p(cvae_input_dir)\n",
    "\n",
    "cvae_input_file = os.path.join(cvae_input_dir, 'cvae_input.h5')\n",
    "cvae_input_save = h5py.File(cvae_input_file, 'w')\n",
    "cvae_input_save.create_dataset('contact_maps', data=cvae_input)\n",
    "cvae_input_save.close() "
   ]
  },
  {
   "cell_type": "code",
   "execution_count": 19,
   "metadata": {},
   "outputs": [
    {
     "data": {
      "text/plain": [
       "(27037, 22, 22, 1)"
      ]
     },
     "execution_count": 19,
     "metadata": {},
     "output_type": "execute_result"
    }
   ],
   "source": [
    "cvae_input.shape"
   ]
  },
  {
   "cell_type": "raw",
   "metadata": {},
   "source": [
    "cvae_input_save = h5py.File('./cvae_input.h5', 'r')\n",
    "cvae_input_save.close()"
   ]
  },
  {
   "cell_type": "markdown",
   "metadata": {},
   "source": [
    "# CVAE"
   ]
  },
  {
   "cell_type": "code",
   "execution_count": 20,
   "metadata": {},
   "outputs": [],
   "source": [
    "hyper_dims = np.arange(n_cvae) + 3"
   ]
  },
  {
   "cell_type": "raw",
   "metadata": {},
   "source": [
    "job_on_gpu(0, jobs)"
   ]
  },
  {
   "cell_type": "code",
   "execution_count": 21,
   "metadata": {},
   "outputs": [],
   "source": [
    "# cvae_jobs = []\n",
    "for i in np.arange(n_cvae): \n",
    "    cvae_j = cvae_job(time.time(), i, cvae_input_file, hyper_dim=i+3) \n",
    "    stop_jobs = jobs.get_job_from_gpu_id(i) \n",
    "    stop_jobs.stop()  \n",
    "    time.sleep(2)\n",
    "#     print('hehre')\n",
    "    cvae_j.start() \n",
    "    jobs.append(cvae_j) \n",
    "#     cvae_jobs.append(cvae_j)\n",
    "    time.sleep(2)"
   ]
  },
  {
   "cell_type": "code",
   "execution_count": 22,
   "metadata": {},
   "outputs": [
    {
     "data": {
      "text/plain": [
       "False"
      ]
     },
     "execution_count": 22,
     "metadata": {},
     "output_type": "execute_result"
    }
   ],
   "source": [
    "os.path.isfile(cvae_j.model_weight)"
   ]
  },
  {
   "cell_type": "raw",
   "metadata": {},
   "source": [
    "avail_gpu = GPU_ids[:]\n",
    "\n",
    "for job in jobs.get_running_jobs():\n",
    "    avail_gpu.remove(job.gpu_id)\n",
    "\n",
    "avail_gpu"
   ]
  },
  {
   "cell_type": "code",
   "execution_count": 23,
   "metadata": {},
   "outputs": [
    {
     "name": "stdout",
     "output_type": "stream",
     "text": [
      "CVAE done. \n"
     ]
    }
   ],
   "source": [
    "while [os.path.isfile(cvae_j.model_weight) for cvae_j in jobs.get_cvae_jobs()] != [True] * len(jobs.get_cvae_jobs()): \n",
    "    time.sleep(.5)\n",
    "print('CVAE done. ') "
   ]
  },
  {
   "cell_type": "code",
   "execution_count": 24,
   "metadata": {},
   "outputs": [],
   "source": [
    "for cvae_j in jobs.get_cvae_jobs(): \n",
    "    cvae_j.state = 'FINISHED'"
   ]
  },
  {
   "cell_type": "code",
   "execution_count": 25,
   "metadata": {},
   "outputs": [
    {
     "data": {
      "text/plain": [
       "[]"
      ]
     },
     "execution_count": 25,
     "metadata": {},
     "output_type": "execute_result"
    }
   ],
   "source": [
    "jobs.get_running_jobs()"
   ]
  },
  {
   "cell_type": "code",
   "execution_count": 26,
   "metadata": {},
   "outputs": [
    {
     "data": {
      "text/plain": [
       "[<utils.omm_job at 0x7f408d1fb610>,\n",
       " <utils.omm_job at 0x7f408d186d10>,\n",
       " <utils.cvae_job at 0x7f408aa8dc50>,\n",
       " <utils.cvae_job at 0x7f408aa44c10>]"
      ]
     },
     "execution_count": 26,
     "metadata": {},
     "output_type": "execute_result"
    }
   ],
   "source": [
    "jobs"
   ]
  },
  {
   "cell_type": "markdown",
   "metadata": {},
   "source": [
    "# CVE result"
   ]
  },
  {
   "cell_type": "code",
   "execution_count": 67,
   "metadata": {},
   "outputs": [],
   "source": [
    "def predict_from_cvae(model_weight, cvae_input, hyper_dim=3): \n",
    "    os.environ[\"CUDA_DEVICE_ORDER\"]=\"PCI_BUS_ID\"\n",
    "    os.environ[\"CUDA_VISIBLE_DEVICES\"]=str(0)  \n",
    "    cvae = CVAE(cvae_input.shape[1:], hyper_dim) \n",
    "    cvae.model.load_weights(model_weight)\n",
    "    cm_predict = cvae.return_embeddings(cvae_input) \n",
    "    return cm_predict"
   ]
  },
  {
   "cell_type": "code",
   "execution_count": 68,
   "metadata": {},
   "outputs": [],
   "source": [
    "model_weight = model_weights[0]\n",
    "cm_predict = predict_from_cvae(model_weight, cvae_input, hyper_dim=int(model_weight[11]))"
   ]
  },
  {
   "cell_type": "code",
   "execution_count": 69,
   "metadata": {},
   "outputs": [],
   "source": [
    "from mpl_toolkits.mplot3d import Axes3D"
   ]
  },
  {
   "cell_type": "code",
   "execution_count": 104,
   "metadata": {},
   "outputs": [],
   "source": [
    "# db = DBSCAN(eps=0.3, min_samples=10).fit(cm_predict)\n",
    "db_label = np.zeros(len(cm_predict)).astype(np.float)"
   ]
  },
  {
   "cell_type": "code",
   "execution_count": 109,
   "metadata": {},
   "outputs": [
    {
     "name": "stdout",
     "output_type": "stream",
     "text": [
      "307\n",
      "158\n",
      "81\n",
      "35\n",
      "20\n"
     ]
    }
   ],
   "source": [
    "for eps in np.arange(0.3, 2, 0.05): \n",
    "    outliers = np.squeeze(outliers_from_cvae(model_weight, cvae_input, hyper_dim=int(model_weight[11]), eps=eps))\n",
    "    n_outlier = len(outliers) \n",
    "    print(n_outlier)\n",
    "    db_label[outliers] = (eps*100 + 1) \n",
    "    if n_outlier <= 20: \n",
    "        break"
   ]
  },
  {
   "cell_type": "code",
   "execution_count": 111,
   "metadata": {},
   "outputs": [
    {
     "data": {
      "image/png": "[encoded data removed]",
      "text/plain": [
       "<Figure size 432x288 with 2 Axes>"
      ]
     },
     "metadata": {},
     "output_type": "display_data"
    }
   ],
   "source": [
    "x, y, z = cm_predict[:,0], cm_predict[:,1], cm_predict[:,2]\n",
    "\n",
    "fig, ax = plt.subplots(subplot_kw=dict(projection='3d'))\n",
    "\n",
    "# ls = LightSource(270, 45)\n",
    "# To use a custom hillshading mode, override the built-in shading and pass\n",
    "# in the rgb colors of the shaded surface calculated from \"shade\".\n",
    "# rgb = ls.shade(z, cmap=cm.gist_earth, vert_exag=0.1, blend_mode='soft')\n",
    "sc = ax.scatter(x, y, z, c=db_label)\n",
    "plt.colorbar(sc)\n",
    "plt.show()"
   ]
  },
  {
   "cell_type": "code",
   "execution_count": null,
   "metadata": {},
   "outputs": [],
   "source": []
  },
  {
   "cell_type": "code",
   "execution_count": null,
   "metadata": {},
   "outputs": [],
   "source": []
  },
  {
   "cell_type": "markdown",
   "metadata": {},
   "source": [
    "# Identifier base on CVAE result"
   ]
  },
  {
   "cell_type": "code",
   "execution_count": 27,
   "metadata": {},
   "outputs": [
    {
     "name": "stdout",
     "output_type": "stream",
     "text": [
      "Counting outliers\n",
      "Model latent dimension:  3\n",
      "dimension = 3, eps = 0.35, number of outlier found: 158\n",
      "dimension = 3, eps = 0.40, number of outlier found: 81\n",
      "dimension = 3, eps = 0.45, number of outlier found: 35\n",
      "dimension = 3, eps = 0.50, number of outlier found: 20\n",
      "Model latent dimension:  4\n",
      "dimension = 4, eps = 0.35, number of outlier found: 1656\n",
      "dimension = 4, eps = 0.40, number of outlier found: 932\n",
      "dimension = 4, eps = 0.45, number of outlier found: 513\n",
      "dimension = 4, eps = 0.50, number of outlier found: 305\n",
      "dimension = 4, eps = 0.55, number of outlier found: 150\n",
      "dimension = 4, eps = 0.60, number of outlier found: 63\n",
      "dimension = 4, eps = 0.65, number of outlier found: 34\n",
      "dimension = 4, eps = 0.70, number of outlier found: 19\n"
     ]
    }
   ],
   "source": [
    "# All the outliers from cvae\n",
    "print('Counting outliers') \n",
    "model_weights = [cvae_j.model_weight for cvae_j in jobs.get_cvae_jobs()]\n",
    "outlier_list = []\n",
    "for model_weight in model_weights: \n",
    "    print('Model latent dimension: ', int(model_weight[11]))\n",
    "    for eps in np.arange(0.35, 2, 0.05): \n",
    "        outliers = np.squeeze(outliers_from_cvae(model_weight, cvae_input, hyper_dim=int(model_weight[11]), eps=eps))\n",
    "        n_outlier = len(outliers)\n",
    "        print('dimension = {0}, eps = {1:.2f}, number of outlier found: {2}'.format(\n",
    "            model_weight[11], eps, n_outlier))\n",
    "        if n_outlier <= 20: \n",
    "            outlier_list.append(outliers)\n",
    "            break\n",
    "\n",
    "np.save('outlier_list.npy', np.array(outlier_list))\n",
    "outlier_list_uni, outlier_count = np.unique(np.hstack(outlier_list), return_counts=True) \n",
    "# outlier_list_ulti = outlier_list_uni[np.where(outlier_count > 1)]\n",
    "# print('outliers: ', outlier_list_ulti)"
   ]
  },
  {
   "cell_type": "code",
   "execution_count": 52,
   "metadata": {},
   "outputs": [
    {
     "name": "stdout",
     "output_type": "stream",
     "text": [
      "Writing pdb files\n",
      "Found outlier# 214 at frame 214 of omm_run_1543441282/output.dcd\n",
      "Found outlier# 3668 at frame 3668 of omm_run_1543441282/output.dcd\n",
      "Found outlier# 5019 at frame 5019 of omm_run_1543441282/output.dcd\n",
      "Found outlier# 5374 at frame 5374 of omm_run_1543441282/output.dcd\n",
      "Found outlier# 5912 at frame 5912 of omm_run_1543441282/output.dcd\n",
      "Found outlier# 5923 at frame 5923 of omm_run_1543441282/output.dcd\n",
      "Found outlier# 6002 at frame 6002 of omm_run_1543441282/output.dcd\n",
      "Found outlier# 6717 at frame 6717 of omm_run_1543441282/output.dcd\n",
      "Found outlier# 6718 at frame 6718 of omm_run_1543441282/output.dcd\n",
      "Found outlier# 6719 at frame 6719 of omm_run_1543441282/output.dcd\n",
      "Found outlier# 6746 at frame 6746 of omm_run_1543441282/output.dcd\n",
      "Found outlier# 6924 at frame 6924 of omm_run_1543441282/output.dcd\n",
      "Found outlier# 6959 at frame 6959 of omm_run_1543441282/output.dcd\n",
      "Found outlier# 7021 at frame 7021 of omm_run_1543441282/output.dcd\n",
      "Found outlier# 7223 at frame 7223 of omm_run_1543441282/output.dcd\n",
      "Found outlier# 7306 at frame 7306 of omm_run_1543441282/output.dcd\n",
      "Found outlier# 7667 at frame 7667 of omm_run_1543441282/output.dcd\n",
      "Found outlier# 7679 at frame 7679 of omm_run_1543441282/output.dcd\n",
      "Found outlier# 7942 at frame 7942 of omm_run_1543441282/output.dcd\n",
      "Found outlier# 8527 at frame 8527 of omm_run_1543441282/output.dcd\n",
      "Found outlier# 8528 at frame 8528 of omm_run_1543441282/output.dcd\n",
      "Found outlier# 8793 at frame 8793 of omm_run_1543441282/output.dcd\n",
      "Found outlier# 8884 at frame 8884 of omm_run_1543441282/output.dcd\n",
      "Found outlier# 9090 at frame 9090 of omm_run_1543441282/output.dcd\n",
      "Found outlier# 10367 at frame 10367 of omm_run_1543441282/output.dcd\n",
      "Found outlier# 10990 at frame 10990 of omm_run_1543441282/output.dcd\n",
      "Found outlier# 13143 at frame 13143 of omm_run_1543441282/output.dcd\n",
      "Found outlier# 17129 at frame 17129 of omm_run_1543441282/output.dcd\n",
      "Found outlier# 17160 at frame 17160 of omm_run_1543441282/output.dcd\n",
      "Found outlier# 17225 at frame 17225 of omm_run_1543441282/output.dcd\n",
      "Found outlier# 18271 at frame 18271 of omm_run_1543441282/output.dcd\n",
      "Found outlier# 18332 at frame 18332 of omm_run_1543441282/output.dcd\n",
      "Found outlier# 18350 at frame 18350 of omm_run_1543441282/output.dcd\n",
      "Found outlier# 20157 at frame 20157 of omm_run_1543441282/output.dcd\n",
      "Found outlier# 20375 at frame 20375 of omm_run_1543441282/output.dcd\n",
      "Found outlier# 20631 at frame 20631 of omm_run_1543441282/output.dcd\n",
      "Found outlier# 20929 at frame 20929 of omm_run_1543441282/output.dcd\n"
     ]
    }
   ],
   "source": [
    "print('Writing pdb files') \n",
    "# write the pdb according the outlier indices\n",
    "traj_info = open('./scheduler_logs/openmm_log.txt', 'r').read().split()\n",
    "\n",
    "traj_dict = dict(zip(traj_info[::2], np.array(traj_info[1::2]).astype(int)))\n",
    "\n",
    "outliers_pdb = os.path.join(work_dir, 'outlier_pdbs')\n",
    "make_dir_p(outliers_pdb)\n",
    "\n",
    "outlier_pdb_files = []\n",
    "for outlier in outlier_list_uni: \n",
    "    traj_file, num_frame = find_frame(traj_dict, outlier) \n",
    "    print('Found outlier# {} at frame {} of {}'.format(outlier, num_frame, traj_file))\n",
    "    outlier_pdb_file = os.path.join(outliers_pdb, '{}_{}_{}.pdb'.format(outlier, traj_file[:18], num_frame))\n",
    "    outlier_pdb = write_pdb_frame(traj_file, pdb_file, num_frame, outlier_pdb_file) \n",
    "    outlier_pdb_files.append(outlier_pdb_file) "
   ]
  },
  {
   "cell_type": "code",
   "execution_count": 53,
   "metadata": {},
   "outputs": [],
   "source": [
    "mda_traj = mda.Universe(pdb_file, traj_file)"
   ]
  },
  {
   "cell_type": "code",
   "execution_count": 55,
   "metadata": {},
   "outputs": [],
   "source": [
    "outlier_traj = mda.Universe(outlier_pdb_files[0], outlier_pdb_files)\n",
    "\n",
    "from MDAnalysis.analysis.rms import RMSD \n",
    "RMSD_Mat = []\n",
    "for i in outlier_pdb_files: \n",
    "    ref_traj = mda.Universe(i)\n",
    "    R = RMSD(outlier_traj, ref_traj, select = 'protein and name CA') \n",
    "    R.run()\n",
    "#     print(R.rmsd[:,2].shape)\n",
    "    RMSD_Mat.append(R.rmsd[:,2])"
   ]
  },
  {
   "cell_type": "code",
   "execution_count": 56,
   "metadata": {},
   "outputs": [
    {
     "data": {
      "image/png": "[encoded data removed]",
      "text/plain": [
       "<Figure size 432x288 with 2 Axes>"
      ]
     },
     "metadata": {},
     "output_type": "display_data"
    }
   ],
   "source": [
    "import matplotlib.pyplot as plt\n",
    "plt.imshow(RMSD_Mat)\n",
    "plt.colorbar() \n",
    "plt.savefig('rmsd.png')"
   ]
  },
  {
   "cell_type": "raw",
   "metadata": {},
   "source": [
    "def get_available_gpu(self, gpu_list): \n",
    "    avail_gpu = gpu_list[:]\n",
    "    for job in self.get_running_jobs():\n",
    "        avail_gpu.remove(job.gpu_id)\n",
    "    return avail_gpu \n",
    "    "
   ]
  },
  {
   "cell_type": "code",
   "execution_count": 36,
   "metadata": {},
   "outputs": [
    {
     "name": "stdout",
     "output_type": "stream",
     "text": [
      "0\n",
      "1\n"
     ]
    }
   ],
   "source": [
    "for gpu_id in jobs.get_available_gpu(GPU_ids): \n",
    "    print(gpu_id)"
   ]
  },
  {
   "cell_type": "code",
   "execution_count": 41,
   "metadata": {},
   "outputs": [
    {
     "name": "stdout",
     "output_type": "stream",
     "text": [
      "haha\n",
      "haha\n"
     ]
    }
   ],
   "source": [
    "for gpu_id in jobs.get_available_gpu(GPU_ids): \n",
    "    random.shuffle(outlier_pdb_files)\n",
    "    outlier_pdb_file = outlier_pdb_files[0]\n",
    "    job = omm_job(job_id=int(time.time()), gpu_id=gpu_id, top_file=top_file, pdb_file=outlier_pdb_file)\n",
    "    outlier_pdb_files.remove(pdb_file) \n",
    "    job.start()\n",
    "    print('haha')\n",
    "    jobs.append(job) \n",
    "    time.sleep(2)"
   ]
  },
  {
   "cell_type": "markdown",
   "metadata": {},
   "source": [
    "# New outliers"
   ]
  },
  {
   "cell_type": "code",
   "execution_count": 112,
   "metadata": {},
   "outputs": [],
   "source": [
    "cm_files = sorted(glob('omm*/*_cm.h5')) \n",
    "\n",
    "cm_data_lists = [read_h5py_file(cm_file) for cm_file in cm_files] "
   ]
  },
  {
   "cell_type": "code",
   "execution_count": 121,
   "metadata": {},
   "outputs": [],
   "source": [
    "for cm in cm_data_lists: \n",
    "    cm.refresh() "
   ]
  },
  {
   "cell_type": "code",
   "execution_count": 122,
   "metadata": {},
   "outputs": [
    {
     "data": {
      "text/plain": [
       "30665"
      ]
     },
     "execution_count": 122,
     "metadata": {},
     "output_type": "execute_result"
    }
   ],
   "source": [
    "frame_number(cm_data_lists)"
   ]
  },
  {
   "cell_type": "code",
   "execution_count": 119,
   "metadata": {},
   "outputs": [],
   "source": [
    "train_data_length = [ cm_data.shape[1] for cm_data in cm_data_lists]\n",
    "\n",
    "log = open(omm_log, 'w') \n",
    "\n",
    "for i, n_frame in enumerate(train_data_length): \n",
    "    log.writelines(\"{} {}\\n\".format(cm_files[i], n_frame))    \n",
    "log.close()"
   ]
  },
  {
   "cell_type": "code",
   "execution_count": 123,
   "metadata": {},
   "outputs": [],
   "source": [
    "cvae_input = cm_to_cvae(cm_data_lists)"
   ]
  },
  {
   "cell_type": "code",
   "execution_count": 125,
   "metadata": {},
   "outputs": [
    {
     "data": {
      "text/plain": [
       "(30665, 22, 22, 1)"
      ]
     },
     "execution_count": 125,
     "metadata": {},
     "output_type": "execute_result"
    }
   ],
   "source": [
    "cvae_input.shape"
   ]
  },
  {
   "cell_type": "code",
   "execution_count": 124,
   "metadata": {},
   "outputs": [
    {
     "name": "stdout",
     "output_type": "stream",
     "text": [
      "Counting outliers\n",
      "Model latent dimension:  3\n",
      "dimension = 3, eps = 0.35, number of outlier found: 158\n",
      "dimension = 3, eps = 0.40, number of outlier found: 81\n",
      "dimension = 3, eps = 0.45, number of outlier found: 35\n",
      "dimension = 3, eps = 0.50, number of outlier found: 20\n",
      "Model latent dimension:  4\n",
      "dimension = 4, eps = 0.35, number of outlier found: 1648\n",
      "dimension = 4, eps = 0.40, number of outlier found: 928\n",
      "dimension = 4, eps = 0.45, number of outlier found: 512\n",
      "dimension = 4, eps = 0.50, number of outlier found: 303\n",
      "dimension = 4, eps = 0.55, number of outlier found: 149\n",
      "dimension = 4, eps = 0.60, number of outlier found: 62\n",
      "dimension = 4, eps = 0.65, number of outlier found: 34\n",
      "dimension = 4, eps = 0.70, number of outlier found: 19\n"
     ]
    }
   ],
   "source": [
    "print('Counting outliers') \n",
    "model_weights = [cvae_j.model_weight for cvae_j in jobs.get_cvae_jobs()]\n",
    "outlier_list = []\n",
    "for model_weight in model_weights: \n",
    "    print('Model latent dimension: ', int(model_weight[11]))\n",
    "    for eps in np.arange(0.35, 2, 0.05): \n",
    "        outliers = np.squeeze(outliers_from_cvae(model_weight, cvae_input, hyper_dim=int(model_weight[11]), eps=eps))\n",
    "        n_outlier = len(outliers)\n",
    "        print('dimension = {0}, eps = {1:.2f}, number of outlier found: {2}'.format(\n",
    "            model_weight[11], eps, n_outlier))\n",
    "        if n_outlier <= 20: \n",
    "            outlier_list.append(outliers)\n",
    "            break\n",
    "\n",
    "np.save('outlier_list.npy', np.array(outlier_list))\n",
    "outlier_list_uni, outlier_count = np.unique(np.hstack(outlier_list), return_counts=True) "
   ]
  },
  {
   "cell_type": "code",
   "execution_count": 126,
   "metadata": {},
   "outputs": [
    {
     "name": "stdout",
     "output_type": "stream",
     "text": [
      "Writing pdb files\n",
      "Found outlier# 214 at frame 214 of omm_run_1543441282/output.dcd\n",
      "Found outlier# 3668 at frame 3668 of omm_run_1543441282/output.dcd\n",
      "Found outlier# 5019 at frame 5019 of omm_run_1543441282/output.dcd\n",
      "Found outlier# 5374 at frame 5374 of omm_run_1543441282/output.dcd\n",
      "Found outlier# 5912 at frame 5912 of omm_run_1543441282/output.dcd\n",
      "Found outlier# 5923 at frame 5923 of omm_run_1543441282/output.dcd\n",
      "Found outlier# 6002 at frame 6002 of omm_run_1543441282/output.dcd\n",
      "Found outlier# 6717 at frame 6717 of omm_run_1543441282/output.dcd\n",
      "Found outlier# 6718 at frame 6718 of omm_run_1543441282/output.dcd\n",
      "Found outlier# 6719 at frame 6719 of omm_run_1543441282/output.dcd\n",
      "Found outlier# 6746 at frame 6746 of omm_run_1543441282/output.dcd\n",
      "Found outlier# 6924 at frame 6924 of omm_run_1543441282/output.dcd\n",
      "Found outlier# 6959 at frame 6959 of omm_run_1543441282/output.dcd\n",
      "Found outlier# 7021 at frame 7021 of omm_run_1543441282/output.dcd\n",
      "Found outlier# 7223 at frame 7223 of omm_run_1543441282/output.dcd\n",
      "Found outlier# 7306 at frame 7306 of omm_run_1543441282/output.dcd\n",
      "Found outlier# 7667 at frame 7667 of omm_run_1543441282/output.dcd\n",
      "Found outlier# 7679 at frame 7679 of omm_run_1543441282/output.dcd\n",
      "Found outlier# 7942 at frame 7942 of omm_run_1543441282/output.dcd\n",
      "Found outlier# 8527 at frame 8527 of omm_run_1543441282/output.dcd\n",
      "Found outlier# 8528 at frame 8528 of omm_run_1543441282/output.dcd\n",
      "Found outlier# 8793 at frame 8793 of omm_run_1543441282/output.dcd\n",
      "Found outlier# 8884 at frame 8884 of omm_run_1543441282/output.dcd\n",
      "Found outlier# 9090 at frame 9090 of omm_run_1543441282/output.dcd\n",
      "Found outlier# 10367 at frame 10367 of omm_run_1543441282/output.dcd\n",
      "Found outlier# 10990 at frame 10990 of omm_run_1543441282/output.dcd\n",
      "Found outlier# 13143 at frame 13143 of omm_run_1543441282/output.dcd\n",
      "Found outlier# 17129 at frame 17129 of omm_run_1543441282/output.dcd\n",
      "Found outlier# 17160 at frame 17160 of omm_run_1543441282/output.dcd\n",
      "Found outlier# 17225 at frame 17225 of omm_run_1543441282/output.dcd\n",
      "Found outlier# 18271 at frame 18271 of omm_run_1543441282/output.dcd\n",
      "Found outlier# 18332 at frame 18332 of omm_run_1543441282/output.dcd\n",
      "Found outlier# 18350 at frame 18350 of omm_run_1543441282/output.dcd\n",
      "Found outlier# 20157 at frame 20157 of omm_run_1543441282/output.dcd\n",
      "Found outlier# 20375 at frame 20375 of omm_run_1543441282/output.dcd\n",
      "Found outlier# 20631 at frame 20631 of omm_run_1543441282/output.dcd\n",
      "Found outlier# 20929 at frame 20929 of omm_run_1543441282/output.dcd\n"
     ]
    }
   ],
   "source": [
    "print('Writing pdb files') \n",
    "# write the pdb according the outlier indices\n",
    "traj_info = open('./scheduler_logs/openmm_log.txt', 'r').read().split()\n",
    "\n",
    "traj_dict = dict(zip(traj_info[::2], np.array(traj_info[1::2]).astype(int)))\n",
    "\n",
    "outliers_pdb = os.path.join(work_dir, 'outlier_pdbs')\n",
    "make_dir_p(outliers_pdb)\n",
    "\n",
    "outlier_pdb_files = []\n",
    "for outlier in outlier_list_uni: \n",
    "    traj_file, num_frame = find_frame(traj_dict, outlier) \n",
    "    print('Found outlier# {} at frame {} of {}'.format(outlier, num_frame, traj_file))\n",
    "    outlier_pdb_file = os.path.join(outliers_pdb, '{}_{}_{}.pdb'.format(outlier, traj_file[:18], num_frame))\n",
    "    outlier_pdb = write_pdb_frame(traj_file, pdb_file, num_frame, outlier_pdb_file) \n",
    "    outlier_pdb_files.append(outlier_pdb_file) "
   ]
  },
  {
   "cell_type": "code",
   "execution_count": null,
   "metadata": {},
   "outputs": [],
   "source": []
  }
 ],
 "metadata": {
  "kernelspec": {
   "display_name": "Python 2",
   "language": "python",
   "name": "python2"
  },
  "language_info": {
   "codemirror_mode": {
    "name": "ipython",
    "version": 2
   },
   "file_extension": ".py",
   "mimetype": "text/x-python",
   "name": "python",
   "nbconvert_exporter": "python",
   "pygments_lexer": "ipython2",
   "version": "2.7.14"
  }
 },
 "nbformat": 4,
 "nbformat_minor": 2
}
