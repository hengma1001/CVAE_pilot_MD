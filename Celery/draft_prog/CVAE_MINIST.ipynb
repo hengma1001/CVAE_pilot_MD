{
 "cells": [
  {
   "cell_type": "code",
   "execution_count": 1,
   "metadata": {},
   "outputs": [
    {
     "name": "stderr",
     "output_type": "stream",
     "text": [
      "Using TensorFlow backend.\n"
     ]
    }
   ],
   "source": [
    "import os\n",
    "import argparse\n",
    "\n",
    "from keras.datasets import mnist\n",
    "from keras.optimizers import RMSprop\n",
    "\n",
    "import sys\n",
    "sys.path.append('/home/hm0/Research/molecules/molecules_git/build/lib')\n",
    "\n",
    "from molecules.ml.unsupervised import EncoderConvolution2D\n",
    "from molecules.ml.unsupervised import DecoderConvolution2D\n",
    "from molecules.ml.unsupervised import VAE"
   ]
  },
  {
   "cell_type": "code",
   "execution_count": 3,
   "metadata": {},
   "outputs": [],
   "source": [
    "os.environ[\"CUDA_DEVICE_ORDER\"]=\"PCI_BUS_ID\"\n",
    "os.environ[\"CUDA_VISIBLE_DEVICES\"]=\"0\""
   ]
  },
  {
   "cell_type": "code",
   "execution_count": 4,
   "metadata": {},
   "outputs": [],
   "source": [
    "img_rows = img_cols = 28\n",
    "(x_train, y_train), (x_test, y_test) = mnist.load_data()\n",
    "x_train = x_train.reshape(x_train.shape[0], img_rows, img_cols, 1)\n",
    "x_test = x_test.reshape(x_test.shape[0], img_rows, img_cols, 1)\n",
    "input_shape = (img_rows, img_cols, 1)\n",
    "\n",
    "x_train = x_train.astype('float32')\n",
    "x_test = x_test.astype('float32')\n",
    "x_train /= 255\n",
    "x_test /= 255\n"
   ]
  },
  {
   "cell_type": "code",
   "execution_count": 5,
   "metadata": {},
   "outputs": [],
   "source": [
    "optimizer = RMSprop(lr=0.001, rho=0.9, epsilon=1e-08, decay=0.0)\n",
    "\n",
    "encoder = EncoderConvolution2D(input_shape=input_shape)\n",
    "\n",
    "encoder._get_final_conv_params()\n",
    "num_conv_params = encoder.total_conv_params\n",
    "encode_conv_shape = encoder.final_conv_shape\n",
    "\n",
    "decoder = DecoderConvolution2D(output_shape=input_shape,\n",
    "                               enc_conv_params=num_conv_params,\n",
    "                               enc_conv_shape=encode_conv_shape)\n",
    "\n",
    "cvae = VAE(input_shape=input_shape,\n",
    "           latent_dim=3,\n",
    "           encoder=encoder,\n",
    "           decoder=decoder,\n",
    "           optimizer=optimizer)\n"
   ]
  },
  {
   "cell_type": "code",
   "execution_count": 9,
   "metadata": {},
   "outputs": [
    {
     "name": "stdout",
     "output_type": "stream",
     "text": [
      "Convolutional Variational Autoencoder\n",
      "\n",
      "Convolutional Encoder:\n",
      "_________________________________________________________________\n",
      "Layer (type)                 Output Shape              Param #   \n",
      "=================================================================\n",
      "input_1 (InputLayer)         (None, 28, 28, 1)         0         \n",
      "_________________________________________________________________\n",
      "conv2d_1 (Conv2D)            (None, 28, 28, 64)        640       \n",
      "_________________________________________________________________\n",
      "conv2d_2 (Conv2D)            (None, 14, 14, 64)        36928     \n",
      "_________________________________________________________________\n",
      "conv2d_3 (Conv2D)            (None, 14, 14, 64)        36928     \n",
      "_________________________________________________________________\n",
      "flatten_1 (Flatten)          (None, 12544)             0         \n",
      "_________________________________________________________________\n",
      "dropout_1 (Dropout)          (None, 12544)             0         \n",
      "_________________________________________________________________\n",
      "dense_1 (Dense)              (None, 128)               1605760   \n",
      "_________________________________________________________________\n",
      "dense_2 (Dense)              (None, 3)                 387       \n",
      "=================================================================\n",
      "Total params: 1,680,643\n",
      "Trainable params: 1,680,643\n",
      "Non-trainable params: 0\n",
      "_________________________________________________________________\n",
      "Convolutional Decoder\n",
      "_________________________________________________________________\n",
      "Layer (type)                 Output Shape              Param #   \n",
      "=================================================================\n",
      "z_sampling (InputLayer)      (None, 3)                 0         \n",
      "_________________________________________________________________\n",
      "dense_4 (Dense)              (None, 128)               512       \n",
      "_________________________________________________________________\n",
      "dense_5 (Dense)              (None, 12544)             1618176   \n",
      "_________________________________________________________________\n",
      "reshape_1 (Reshape)          (None, 14, 14, 64)        0         \n",
      "_________________________________________________________________\n",
      "conv2d_transpose_1 (Conv2DTr (None, 14, 14, 64)        36928     \n",
      "_________________________________________________________________\n",
      "conv2d_transpose_2 (Conv2DTr (None, 28, 28, 64)        36928     \n",
      "_________________________________________________________________\n",
      "conv2d_transpose_3 (Conv2DTr (None, 28, 28, 1)         577       \n",
      "=================================================================\n",
      "Total params: 1,693,121\n",
      "Trainable params: 1,693,121\n",
      "Non-trainable params: 0\n",
      "_________________________________________________________________\n"
     ]
    }
   ],
   "source": [
    "cvae.summary()"
   ]
  },
  {
   "cell_type": "code",
   "execution_count": 10,
   "metadata": {},
   "outputs": [
    {
     "name": "stdout",
     "output_type": "stream",
     "text": [
      "Train on 60000 samples, validate on 10000 samples\n",
      "Epoch 1/10\n",
      "60000/60000 [==============================] - 22s 371us/step - loss: 171.8421 - val_loss: 150.5499\n",
      "Epoch 2/10\n",
      "60000/60000 [==============================] - 19s 314us/step - loss: 140.5181 - val_loss: 138.2347\n",
      "Epoch 3/10\n",
      "60000/60000 [==============================] - 20s 338us/step - loss: 134.3325 - val_loss: 135.1584\n",
      "Epoch 4/10\n",
      "60000/60000 [==============================] - 20s 338us/step - loss: 131.0672 - val_loss: 132.4982\n",
      "Epoch 5/10\n",
      "60000/60000 [==============================] - 19s 323us/step - loss: 128.7918 - val_loss: 130.3798\n",
      "Epoch 6/10\n",
      "60000/60000 [==============================] - 20s 338us/step - loss: 127.1508 - val_loss: 129.8448\n",
      "Epoch 7/10\n",
      "60000/60000 [==============================] - 20s 337us/step - loss: 125.7762 - val_loss: 130.6703\n",
      "Epoch 8/10\n",
      "60000/60000 [==============================] - 19s 323us/step - loss: 124.7479 - val_loss: 127.6623\n",
      "Epoch 9/10\n",
      "60000/60000 [==============================] - 20s 339us/step - loss: 123.8421 - val_loss: 128.9377\n",
      "Epoch 10/10\n",
      "60000/60000 [==============================] - 19s 316us/step - loss: 123.0491 - val_loss: 128.2080\n"
     ]
    }
   ],
   "source": [
    "cvae.train(x_train, validation_data=x_test, batch_size=128, epochs=10)\n"
   ]
  },
  {
   "cell_type": "code",
   "execution_count": null,
   "metadata": {},
   "outputs": [],
   "source": [
    "weight_path = os.path.join(args.weight_path, 'cvae_mnist.h5')\n",
    "cvae.save_weights(weight_path)"
   ]
  },
  {
   "cell_type": "code",
   "execution_count": null,
   "metadata": {},
   "outputs": [],
   "source": []
  }
 ],
 "metadata": {
  "kernelspec": {
   "display_name": "Python 2",
   "language": "python",
   "name": "python2"
  },
  "language_info": {
   "codemirror_mode": {
    "name": "ipython",
    "version": 2
   },
   "file_extension": ".py",
   "mimetype": "text/x-python",
   "name": "python",
   "nbconvert_exporter": "python",
   "pygments_lexer": "ipython2",
   "version": "2.7.14"
  }
 },
 "nbformat": 4,
 "nbformat_minor": 2
}
