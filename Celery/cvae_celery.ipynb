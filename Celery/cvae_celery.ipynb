{
 "cells": [
  {
   "cell_type": "code",
   "execution_count": 1,
   "metadata": {},
   "outputs": [],
   "source": [
    "import datetime, time"
   ]
  },
  {
   "cell_type": "code",
   "execution_count": 2,
   "metadata": {},
   "outputs": [],
   "source": [
    "ts = time.time()"
   ]
  },
  {
   "cell_type": "code",
   "execution_count": 3,
   "metadata": {},
   "outputs": [
    {
     "data": {
      "text/plain": [
       "'2018-11-13 14:06:08'"
      ]
     },
     "execution_count": 3,
     "metadata": {},
     "output_type": "execute_result"
    }
   ],
   "source": [
    "datetime.datetime.fromtimestamp(1542135968.3234).strftime('%Y-%m-%d %H:%M:%S')"
   ]
  },
  {
   "cell_type": "code",
   "execution_count": 1,
   "metadata": {},
   "outputs": [
    {
     "name": "stderr",
     "output_type": "stream",
     "text": [
      "Using TensorFlow backend.\n"
     ]
    }
   ],
   "source": [
    "from run_cvae import run_cvae"
   ]
  },
  {
   "cell_type": "code",
   "execution_count": 3,
   "metadata": {},
   "outputs": [
    {
     "name": "stdout",
     "output_type": "stream",
     "text": [
      "Train on 3529 samples, validate on 883 samples\n",
      "Epoch 1/100\n",
      "3529/3529 [==============================] - 2s 496us/step - loss: 1454.9306 - val_loss: 583.9960\n",
      "Epoch 2/100\n",
      "3529/3529 [==============================] - 1s 236us/step - loss: 567.6054 - val_loss: 406.0891\n",
      "Epoch 3/100\n",
      "3529/3529 [==============================] - 1s 238us/step - loss: 382.5627 - val_loss: 318.7163\n",
      "Epoch 4/100\n",
      "3529/3529 [==============================] - 1s 235us/step - loss: 383.3229 - val_loss: 366.0579\n",
      "Epoch 5/100\n",
      "3529/3529 [==============================] - 1s 235us/step - loss: 356.7331 - val_loss: 349.0133\n",
      "Epoch 6/100\n",
      "3529/3529 [==============================] - 1s 238us/step - loss: 335.4194 - val_loss: 281.5887\n",
      "Epoch 7/100\n",
      "3529/3529 [==============================] - 1s 235us/step - loss: 282.8544 - val_loss: 264.8142\n",
      "Epoch 8/100\n",
      "3529/3529 [==============================] - 1s 237us/step - loss: 356.1686 - val_loss: 283.1702\n",
      "Epoch 9/100\n",
      "3529/3529 [==============================] - 1s 237us/step - loss: 244.6507 - val_loss: 265.5260\n",
      "Epoch 10/100\n",
      "3529/3529 [==============================] - 1s 236us/step - loss: 238.0039 - val_loss: 251.5403\n",
      "Epoch 11/100\n",
      "3529/3529 [==============================] - 1s 236us/step - loss: 258.0160 - val_loss: 283.5868\n",
      "Epoch 12/100\n",
      "3529/3529 [==============================] - 1s 235us/step - loss: 211.1909 - val_loss: 247.4723\n",
      "Epoch 13/100\n",
      "3529/3529 [==============================] - 1s 233us/step - loss: 208.5831 - val_loss: 274.6530\n",
      "Epoch 14/100\n",
      "3529/3529 [==============================] - 1s 236us/step - loss: 206.6411 - val_loss: 262.5292\n",
      "Epoch 15/100\n",
      "3529/3529 [==============================] - 1s 234us/step - loss: 226.5922 - val_loss: 272.2303\n",
      "Epoch 16/100\n",
      "3529/3529 [==============================] - 1s 246us/step - loss: 189.0902 - val_loss: 241.2562\n",
      "Epoch 17/100\n",
      "3529/3529 [==============================] - 1s 235us/step - loss: 195.0305 - val_loss: 298.0819\n",
      "Epoch 18/100\n",
      "3529/3529 [==============================] - 1s 237us/step - loss: 189.7745 - val_loss: 245.0666\n",
      "Epoch 19/100\n",
      "3529/3529 [==============================] - 1s 234us/step - loss: 192.6508 - val_loss: 252.1500\n",
      "Epoch 20/100\n",
      "3529/3529 [==============================] - 1s 237us/step - loss: 175.6165 - val_loss: 250.8686\n",
      "Epoch 21/100\n",
      "3529/3529 [==============================] - 1s 235us/step - loss: 182.8248 - val_loss: 288.0404\n",
      "Epoch 22/100\n",
      "3529/3529 [==============================] - 1s 236us/step - loss: 193.0521 - val_loss: 239.8475\n",
      "Epoch 23/100\n",
      "3529/3529 [==============================] - 1s 236us/step - loss: 161.0872 - val_loss: 233.3649\n",
      "Epoch 24/100\n",
      "3529/3529 [==============================] - 1s 239us/step - loss: 164.0866 - val_loss: 238.4908\n",
      "Epoch 25/100\n",
      "3529/3529 [==============================] - 1s 238us/step - loss: 194.5423 - val_loss: 262.4771\n",
      "Epoch 26/100\n",
      "3529/3529 [==============================] - 1s 237us/step - loss: 165.4282 - val_loss: 237.3746\n",
      "Epoch 27/100\n",
      "3529/3529 [==============================] - 1s 234us/step - loss: 157.1973 - val_loss: 229.7173\n",
      "Epoch 28/100\n",
      "3529/3529 [==============================] - 1s 235us/step - loss: 153.6290 - val_loss: 267.4298\n",
      "Epoch 29/100\n",
      "3529/3529 [==============================] - 1s 235us/step - loss: 173.0994 - val_loss: 281.3158\n",
      "Epoch 30/100\n",
      "3529/3529 [==============================] - 1s 235us/step - loss: 159.4222 - val_loss: 232.1591\n",
      "Epoch 31/100\n",
      "3529/3529 [==============================] - 1s 235us/step - loss: 159.3962 - val_loss: 228.3667\n",
      "Epoch 32/100\n",
      "3529/3529 [==============================] - 1s 234us/step - loss: 152.2379 - val_loss: 258.8502\n",
      "Epoch 33/100\n",
      "3529/3529 [==============================] - 1s 238us/step - loss: 167.3704 - val_loss: 252.1333\n",
      "Epoch 34/100\n",
      "3529/3529 [==============================] - 1s 236us/step - loss: 150.5183 - val_loss: 232.6111\n",
      "Epoch 35/100\n",
      "3529/3529 [==============================] - 1s 234us/step - loss: 153.7497 - val_loss: 270.7637\n",
      "Epoch 36/100\n",
      "3529/3529 [==============================] - 1s 237us/step - loss: 153.2833 - val_loss: 257.6801\n",
      "Epoch 37/100\n",
      "3529/3529 [==============================] - 1s 235us/step - loss: 153.2805 - val_loss: 223.9809\n",
      "Epoch 38/100\n",
      "3529/3529 [==============================] - 1s 239us/step - loss: 146.1347 - val_loss: 258.0996\n",
      "Epoch 39/100\n",
      "3529/3529 [==============================] - 1s 234us/step - loss: 153.4712 - val_loss: 240.8271\n",
      "Epoch 40/100\n",
      "3529/3529 [==============================] - 1s 235us/step - loss: 138.8798 - val_loss: 236.5749\n",
      "Epoch 41/100\n",
      "3529/3529 [==============================] - 1s 236us/step - loss: 151.1188 - val_loss: 277.5409\n",
      "Epoch 42/100\n",
      "3529/3529 [==============================] - 1s 239us/step - loss: 144.6157 - val_loss: 228.6398\n",
      "Epoch 43/100\n",
      "3529/3529 [==============================] - 1s 233us/step - loss: 139.4320 - val_loss: 249.6116\n",
      "Epoch 44/100\n",
      "3529/3529 [==============================] - 1s 240us/step - loss: 144.7210 - val_loss: 254.3758\n",
      "Epoch 45/100\n",
      "3529/3529 [==============================] - 1s 236us/step - loss: 137.1167 - val_loss: 227.7341\n",
      "Epoch 46/100\n",
      "3529/3529 [==============================] - 1s 234us/step - loss: 135.2512 - val_loss: 231.8015\n",
      "Epoch 47/100\n",
      "3529/3529 [==============================] - 1s 233us/step - loss: 136.4451 - val_loss: 236.2951\n",
      "Epoch 48/100\n",
      "3529/3529 [==============================] - 1s 237us/step - loss: 135.0678 - val_loss: 273.4493\n",
      "Epoch 49/100\n",
      "3529/3529 [==============================] - 1s 239us/step - loss: 139.3270 - val_loss: 229.0556\n",
      "Epoch 50/100\n",
      "3529/3529 [==============================] - 1s 235us/step - loss: 129.6162 - val_loss: 245.2061\n",
      "Epoch 51/100\n",
      "3529/3529 [==============================] - 1s 235us/step - loss: 127.1796 - val_loss: 248.9760\n",
      "Epoch 52/100\n",
      "3529/3529 [==============================] - 1s 234us/step - loss: 135.6200 - val_loss: 288.4026\n",
      "Epoch 53/100\n",
      "3529/3529 [==============================] - 1s 234us/step - loss: 126.7945 - val_loss: 235.2355\n",
      "Epoch 54/100\n",
      "3529/3529 [==============================] - 1s 247us/step - loss: 122.2823 - val_loss: 212.2638\n",
      "Epoch 55/100\n",
      "3529/3529 [==============================] - 1s 240us/step - loss: 127.0390 - val_loss: 227.4082\n",
      "Epoch 56/100\n",
      "3529/3529 [==============================] - 1s 237us/step - loss: 129.9052 - val_loss: 276.1368\n",
      "Epoch 57/100\n",
      "3529/3529 [==============================] - 1s 234us/step - loss: 123.0775 - val_loss: 215.8673\n",
      "Epoch 58/100\n",
      "3529/3529 [==============================] - 1s 234us/step - loss: 121.6864 - val_loss: 257.7715\n",
      "Epoch 59/100\n",
      "3529/3529 [==============================] - 1s 232us/step - loss: 121.7378 - val_loss: 254.5437\n",
      "Epoch 60/100\n",
      "3529/3529 [==============================] - 1s 235us/step - loss: 120.0487 - val_loss: 249.9572\n",
      "Epoch 61/100\n",
      "3529/3529 [==============================] - 1s 236us/step - loss: 123.8577 - val_loss: 246.1336\n",
      "Epoch 62/100\n",
      "3529/3529 [==============================] - 1s 241us/step - loss: 127.9837 - val_loss: 244.0857\n",
      "Epoch 63/100\n",
      "3529/3529 [==============================] - 1s 234us/step - loss: 116.3112 - val_loss: 239.1014\n",
      "Epoch 64/100\n",
      "3529/3529 [==============================] - 1s 235us/step - loss: 121.9727 - val_loss: 231.0365\n",
      "Epoch 65/100\n",
      "3529/3529 [==============================] - 1s 233us/step - loss: 118.3535 - val_loss: 274.0497\n",
      "Epoch 66/100\n",
      "3529/3529 [==============================] - 1s 236us/step - loss: 117.3125 - val_loss: 211.2342\n",
      "Epoch 67/100\n",
      "3529/3529 [==============================] - 1s 233us/step - loss: 113.7439 - val_loss: 284.5973\n",
      "Epoch 68/100\n",
      "3529/3529 [==============================] - 1s 234us/step - loss: 122.1411 - val_loss: 222.3758\n",
      "Epoch 69/100\n",
      "3529/3529 [==============================] - 1s 232us/step - loss: 116.6857 - val_loss: 217.2625\n",
      "Epoch 70/100\n",
      "3529/3529 [==============================] - 1s 235us/step - loss: 111.7133 - val_loss: 279.4897\n",
      "Epoch 71/100\n",
      "3529/3529 [==============================] - 1s 237us/step - loss: 116.6221 - val_loss: 211.5995\n",
      "Epoch 72/100\n",
      "3529/3529 [==============================] - 1s 235us/step - loss: 113.1445 - val_loss: 235.9439\n",
      "Epoch 73/100\n",
      "3529/3529 [==============================] - 1s 232us/step - loss: 110.6861 - val_loss: 216.5723\n",
      "Epoch 74/100\n",
      "3529/3529 [==============================] - 1s 236us/step - loss: 116.8914 - val_loss: 264.4756\n",
      "Epoch 75/100\n",
      "3529/3529 [==============================] - 1s 234us/step - loss: 111.7238 - val_loss: 225.7626\n",
      "Epoch 76/100\n",
      "3529/3529 [==============================] - 1s 236us/step - loss: 113.0494 - val_loss: 255.7706\n",
      "Epoch 77/100\n",
      "3529/3529 [==============================] - 1s 243us/step - loss: 121.4644 - val_loss: 215.2685\n",
      "Epoch 78/100\n",
      "3529/3529 [==============================] - 1s 235us/step - loss: 109.8320 - val_loss: 214.8917\n",
      "Epoch 79/100\n",
      "3529/3529 [==============================] - 1s 234us/step - loss: 108.3057 - val_loss: 276.2373\n",
      "Epoch 80/100\n",
      "3529/3529 [==============================] - 1s 235us/step - loss: 111.8455 - val_loss: 210.6813\n",
      "Epoch 81/100\n",
      "3529/3529 [==============================] - 1s 237us/step - loss: 105.3189 - val_loss: 208.9127\n",
      "Epoch 82/100\n",
      "3529/3529 [==============================] - 1s 240us/step - loss: 112.1369 - val_loss: 237.2123\n",
      "Epoch 83/100\n",
      "3529/3529 [==============================] - 1s 235us/step - loss: 110.3674 - val_loss: 231.8863\n",
      "Epoch 84/100\n",
      "3529/3529 [==============================] - 1s 235us/step - loss: 113.6324 - val_loss: 222.4716\n",
      "Epoch 85/100\n",
      "3529/3529 [==============================] - 1s 236us/step - loss: 112.4621 - val_loss: 253.1715\n",
      "Epoch 86/100\n",
      "3529/3529 [==============================] - 1s 239us/step - loss: 107.4808 - val_loss: 210.4892\n",
      "Epoch 87/100\n",
      "3529/3529 [==============================] - 1s 241us/step - loss: 106.1826 - val_loss: 273.3133\n",
      "Epoch 88/100\n",
      "3529/3529 [==============================] - 1s 238us/step - loss: 107.7494 - val_loss: 206.9625\n",
      "Epoch 89/100\n",
      "3529/3529 [==============================] - 1s 243us/step - loss: 110.2643 - val_loss: 253.0278\n",
      "Epoch 90/100\n",
      "3529/3529 [==============================] - 1s 239us/step - loss: 106.9854 - val_loss: 217.9477\n",
      "Epoch 91/100\n",
      "3529/3529 [==============================] - 1s 235us/step - loss: 104.8686 - val_loss: 218.8191\n",
      "Epoch 92/100\n",
      "3529/3529 [==============================] - 1s 237us/step - loss: 108.6335 - val_loss: 250.2046\n",
      "Epoch 93/100\n",
      "3529/3529 [==============================] - 1s 234us/step - loss: 116.1464 - val_loss: 211.1276\n",
      "Epoch 94/100\n",
      "3529/3529 [==============================] - 1s 234us/step - loss: 103.7251 - val_loss: 215.0063\n",
      "Epoch 95/100\n",
      "3529/3529 [==============================] - 1s 235us/step - loss: 100.6413 - val_loss: 213.9324\n",
      "Epoch 96/100\n",
      "3529/3529 [==============================] - 1s 236us/step - loss: 103.6364 - val_loss: 233.0271\n",
      "Epoch 97/100\n",
      "3529/3529 [==============================] - 1s 235us/step - loss: 112.9150 - val_loss: 271.4162\n",
      "Epoch 98/100\n",
      "3529/3529 [==============================] - 1s 237us/step - loss: 108.8305 - val_loss: 207.0864\n",
      "Epoch 99/100\n",
      "3529/3529 [==============================] - 1s 235us/step - loss: 101.6368 - val_loss: 245.4166\n",
      "Epoch 100/100\n",
      "3529/3529 [==============================] - 1s 240us/step - loss: 106.1861 - val_loss: 213.0091\n"
     ]
    }
   ],
   "source": [
    "cvae = run_cvae(1, './cvae_input.h5')"
   ]
  },
  {
   "cell_type": "code",
   "execution_count": 4,
   "metadata": {},
   "outputs": [],
   "source": [
    "cvae.save_weights('cvae.h5')"
   ]
  },
  {
   "cell_type": "code",
   "execution_count": 10,
   "metadata": {},
   "outputs": [],
   "source": [
    "import numpy as np"
   ]
  },
  {
   "cell_type": "code",
   "execution_count": 5,
   "metadata": {},
   "outputs": [],
   "source": [
    "import h5py"
   ]
  },
  {
   "cell_type": "code",
   "execution_count": 6,
   "metadata": {},
   "outputs": [],
   "source": [
    "cm_h5 = h5py.File('./cvae_input.h5', 'r', libver='latest', swmr=True)\n",
    "cm_data = cm_h5[u'contact_maps']"
   ]
  },
  {
   "cell_type": "code",
   "execution_count": 18,
   "metadata": {},
   "outputs": [],
   "source": [
    "embed_res = cvae.embed(cm_data)"
   ]
  },
  {
   "cell_type": "code",
   "execution_count": 8,
   "metadata": {},
   "outputs": [],
   "source": [
    "import matplotlib.pyplot as plt "
   ]
  },
  {
   "cell_type": "code",
   "execution_count": 11,
   "metadata": {},
   "outputs": [
    {
     "data": {
      "text/plain": [
       "<matplotlib.collections.PathCollection at 0x7f7764e563d0>"
      ]
     },
     "execution_count": 11,
     "metadata": {},
     "output_type": "execute_result"
    },
    {
     "data": {
      "image/png": "[encoded data removed]",
      "text/plain": [
       "<Figure size 432x288 with 1 Axes>"
      ]
     },
     "metadata": {},
     "output_type": "display_data"
    }
   ],
   "source": [
    "plt.scatter(embed_res[:,0], embed_res[:,1], c=[np.sum(cm) for cm in cm_data])"
   ]
  },
  {
   "cell_type": "code",
   "execution_count": 1,
   "metadata": {},
   "outputs": [
    {
     "name": "stderr",
     "output_type": "stream",
     "text": [
      "Using TensorFlow backend.\n"
     ]
    }
   ],
   "source": [
    "from run_cvae import CVAE"
   ]
  },
  {
   "cell_type": "code",
   "execution_count": 2,
   "metadata": {},
   "outputs": [],
   "source": [
    "cvae2 = CVAE((52, 52, 1), 3)"
   ]
  },
  {
   "cell_type": "code",
   "execution_count": 14,
   "metadata": {},
   "outputs": [],
   "source": [
    "cvae2.load_weights('cvae.h5')"
   ]
  },
  {
   "cell_type": "code",
   "execution_count": 15,
   "metadata": {},
   "outputs": [],
   "source": [
    "embed_res = cvae2.embed(cm_data)"
   ]
  },
  {
   "cell_type": "code",
   "execution_count": 16,
   "metadata": {},
   "outputs": [],
   "source": [
    "import matplotlib.pyplot as plt "
   ]
  },
  {
   "cell_type": "code",
   "execution_count": 17,
   "metadata": {},
   "outputs": [
    {
     "data": {
      "text/plain": [
       "<matplotlib.collections.PathCollection at 0x7f775f898150>"
      ]
     },
     "execution_count": 17,
     "metadata": {},
     "output_type": "execute_result"
    },
    {
     "data": {
      "image/png": "[encoded data removed]",
      "text/plain": [
       "<Figure size 432x288 with 1 Axes>"
      ]
     },
     "metadata": {},
     "output_type": "display_data"
    }
   ],
   "source": [
    "plt.scatter(embed_res[:,0], embed_res[:,1], c=[np.sum(cm) for cm in cm_data])"
   ]
  },
  {
   "cell_type": "code",
   "execution_count": null,
   "metadata": {},
   "outputs": [],
   "source": []
  }
 ],
 "metadata": {
  "kernelspec": {
   "display_name": "Python 2",
   "language": "python",
   "name": "python2"
  },
  "language_info": {
   "codemirror_mode": {
    "name": "ipython",
    "version": 2
   },
   "file_extension": ".py",
   "mimetype": "text/x-python",
   "name": "python",
   "nbconvert_exporter": "python",
   "pygments_lexer": "ipython2",
   "version": "2.7.14"
  }
 },
 "nbformat": 4,
 "nbformat_minor": 2
}
