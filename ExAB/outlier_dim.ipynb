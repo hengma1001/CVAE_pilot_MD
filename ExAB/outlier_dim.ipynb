{
 "cells": [
  {
   "cell_type": "code",
   "execution_count": 1,
   "metadata": {},
   "outputs": [
    {
     "name": "stderr",
     "output_type": "stream",
     "text": [
      "Using TensorFlow backend.\n"
     ]
    }
   ],
   "source": [
    "from glob import glob\n",
    "import numpy as np\n",
    "import sys, os, h5py, time, errno\n",
    "import GPUtil\n",
    "import MDAnalysis as mda\n",
    "from sklearn.cluster import DBSCAN\n",
    "\n",
    "from CVAE import CVAE \n",
    "from utils import start_rabbit, start_worker, start_flower_monitor, read_h5py_file, cm_to_cvae, job_on_gpu\n",
    "from utils import find_frame, write_pdb_frame, make_dir_p, outliers_from_cvae, job_list\n",
    "from utils import omm_job, cvae_job "
   ]
  },
  {
   "cell_type": "code",
   "execution_count": 2,
   "metadata": {},
   "outputs": [],
   "source": [
    "top_file = None\n",
    "pdb_file = os.path.abspath('./pdb/100-fs-peptide-400K.pdb')"
   ]
  },
  {
   "cell_type": "code",
   "execution_count": 3,
   "metadata": {},
   "outputs": [],
   "source": [
    "cm_files = sorted(glob('omm*/*_cm.h5')) \n",
    "\n",
    "cm_data_lists = [read_h5py_file(cm_file) for cm_file in cm_files] "
   ]
  },
  {
   "cell_type": "code",
   "execution_count": 4,
   "metadata": {},
   "outputs": [
    {
     "data": {
      "text/plain": [
       "['omm_run_1543441282/output_cm.h5',\n",
       " 'omm_run_1543553699/output_cm.h5',\n",
       " 'omm_run_1543553701/output_cm.h5',\n",
       " 'omm_run_1543553703/output_cm.h5',\n",
       " 'omm_run_1543553705/output_cm.h5',\n",
       " 'omm_run_1543553707/output_cm.h5',\n",
       " 'omm_run_1543553709/output_cm.h5',\n",
       " 'omm_run_1543553711/output_cm.h5',\n",
       " 'omm_run_1543553713/output_cm.h5',\n",
       " 'omm_run_1543553715/output_cm.h5',\n",
       " 'omm_run_1543553717/output_cm.h5',\n",
       " 'omm_run_1543553719/output_cm.h5',\n",
       " 'omm_run_1543553721/output_cm.h5',\n",
       " 'omm_run_1543553723/output_cm.h5',\n",
       " 'omm_run_1543553725/output_cm.h5',\n",
       " 'omm_run_1543553727/output_cm.h5',\n",
       " 'omm_run_1543553729/output_cm.h5']"
      ]
     },
     "execution_count": 4,
     "metadata": {},
     "output_type": "execute_result"
    }
   ],
   "source": [
    "cm_files"
   ]
  },
  {
   "cell_type": "markdown",
   "metadata": {},
   "source": [
    "# All contact to h5"
   ]
  },
  {
   "cell_type": "code",
   "execution_count": 5,
   "metadata": {},
   "outputs": [],
   "source": [
    "train_data_length = [ cm_data.shape[1] for cm_data in cm_data_lists]\n",
    "\n",
    "omm_log = os.path.join('./scheduler_logs/openmm_log.txt') \n",
    "\n",
    "log = open(omm_log, 'w') \n",
    "\n",
    "for i, n_frame in enumerate(train_data_length): \n",
    "    log.writelines(\"{} {}\\n\".format(cm_files[i], n_frame))    \n",
    "log.close()"
   ]
  },
  {
   "cell_type": "code",
   "execution_count": 6,
   "metadata": {},
   "outputs": [],
   "source": [
    "cvae_input = cm_to_cvae(cm_data_lists)\n",
    "\n",
    "cvae_input_file = os.path.abspath('./cvae_input/cvae_input.h5')\n",
    "cvae_input_save = h5py.File(cvae_input_file, 'w')\n",
    "cvae_input_save.create_dataset('contact_maps', data=cvae_input)\n",
    "cvae_input_save.close() "
   ]
  },
  {
   "cell_type": "code",
   "execution_count": 7,
   "metadata": {},
   "outputs": [
    {
     "data": {
      "text/plain": [
       "(28909, 22, 22, 1)"
      ]
     },
     "execution_count": 7,
     "metadata": {},
     "output_type": "execute_result"
    }
   ],
   "source": [
    "cvae_input.shape"
   ]
  },
  {
   "cell_type": "raw",
   "metadata": {},
   "source": [
    "cvae_input_save = h5py.File('./cvae_input.h5', 'r')\n",
    "cvae_input_save.close()"
   ]
  },
  {
   "cell_type": "markdown",
   "metadata": {},
   "source": [
    "# CVAE"
   ]
  },
  {
   "cell_type": "markdown",
   "metadata": {},
   "source": [
    "# Identifier base on CVAE result"
   ]
  },
  {
   "cell_type": "code",
   "execution_count": 11,
   "metadata": {},
   "outputs": [
    {
     "name": "stdout",
     "output_type": "stream",
     "text": [
      "cvae_model_3_1543553853/cvae_weight.h5\n"
     ]
    },
    {
     "data": {
      "text/plain": [
       "'3'"
      ]
     },
     "execution_count": 11,
     "metadata": {},
     "output_type": "execute_result"
    }
   ],
   "source": [
    "model_weights = glob('cvae_model_*_1543*/cvae_weight.h5') \n",
    "print model_weights[0]\n",
    "model_weights[0][11]"
   ]
  },
  {
   "cell_type": "code",
   "execution_count": 16,
   "metadata": {},
   "outputs": [],
   "source": [
    "outlier_list = []\n",
    "for model_weight in model_weights: \n",
    "    outliers = outliers_from_cvae(model_weight, cvae_input, hyper_dim=int(model_weight[11]), eps=0.35) \n",
    "    outlier_list.append(np.squeeze(outliers))"
   ]
  },
  {
   "cell_type": "code",
   "execution_count": 45,
   "metadata": {},
   "outputs": [
    {
     "data": {
      "text/plain": [
       "numpy.ndarray"
      ]
     },
     "execution_count": 45,
     "metadata": {},
     "output_type": "execute_result"
    }
   ],
   "source": [
    "type(np.array(outliers))"
   ]
  },
  {
   "cell_type": "raw",
   "metadata": {},
   "source": [
    "def number_outliers(model_weight, eps=0.35): \n",
    "    outliers = np.array(outliers_from_cvae(model_weight, cvae_input, hyper_dim=int(model_weight[11]), eps=eps)).shape\n",
    "    return outliers[1]"
   ]
  },
  {
   "cell_type": "code",
   "execution_count": 70,
   "metadata": {},
   "outputs": [
    {
     "name": "stdout",
     "output_type": "stream",
     "text": [
      "dimension = 3, eps = 0.35, number of outlier found: 89\n",
      "dimension = 3, eps = 0.4, number of outlier found: 42\n",
      "Frame number of outliers:\n",
      "[  486   609   929  3669  4611  5073  5350  5351  5353  5354  5355  5839\n",
      "  5840  5841  5921  6695  6715  6717  6718  6719  6721  7084  7114  7499\n",
      "  7667  7942  8189  8501  8527  8528  9090  9971 11009 11316 11403 20161\n",
      " 20173 20203 20485 20568 20812 20829]\n",
      "next dimenstion \n",
      "dimension = 4, eps = 0.35, number of outlier found: 957\n",
      "dimension = 4, eps = 0.4, number of outlier found: 449\n",
      "dimension = 4, eps = 0.45, number of outlier found: 212\n",
      "dimension = 4, eps = 0.5, number of outlier found: 98\n",
      "dimension = 4, eps = 0.55, number of outlier found: 43\n",
      "Frame number of outliers:\n",
      "[  738   945   991  1698  2002  2024  2152  2157  2326  2328  3608  3781\n",
      "  4558  4567  4786  5073  5353  5354  5355  5373  5374  5381  5446  5462\n",
      "  6119  6374  6717  6718  7277  7537  8308  9812  9884 14835 20186 20195\n",
      " 20208 20454 20502 20603 20624 20626 20631]\n",
      "next dimenstion \n",
      "dimension = 5, eps = 0.35, number of outlier found: 2164\n",
      "dimension = 5, eps = 0.4, number of outlier found: 974\n",
      "dimension = 5, eps = 0.45, number of outlier found: 413\n",
      "dimension = 5, eps = 0.5, number of outlier found: 195\n",
      "dimension = 5, eps = 0.55, number of outlier found: 89\n",
      "dimension = 5, eps = 0.6, number of outlier found: 27\n",
      "Frame number of outliers:\n",
      "[  738   956  2963  3970  5374  6612  6746  6749  7067  7103  8527  8617\n",
      " 10529 13086 13199 13218 13451 15671 16324 16373 18735 19260 19270 19277\n",
      " 20502 20624 21074]\n",
      "next dimenstion \n",
      "dimension = 6, eps = 0.35, number of outlier found: 8009\n",
      "dimension = 6, eps = 0.4, number of outlier found: 4616\n",
      "dimension = 6, eps = 0.45, number of outlier found: 2465\n",
      "dimension = 6, eps = 0.5, number of outlier found: 1329\n",
      "dimension = 6, eps = 0.55, number of outlier found: 695\n",
      "dimension = 6, eps = 0.6, number of outlier found: 365\n",
      "dimension = 6, eps = 0.65, number of outlier found: 197\n",
      "dimension = 6, eps = 0.7, number of outlier found: 115\n",
      "dimension = 6, eps = 0.75, number of outlier found: 54\n",
      "dimension = 6, eps = 0.8, number of outlier found: 19\n",
      "Frame number of outliers:\n",
      "[  300   740  2953  4786  5396  7090  8404 11234 13097 13101 13102 15028\n",
      " 15520 15548 18994 19750 19763 19781 19845]\n",
      "next dimenstion \n"
     ]
    }
   ],
   "source": [
    "outlier_list = []\n",
    "for model_weight in model_weights: \n",
    "    for eps in np.arange(0.35, 1.0, 0.05): \n",
    "        outliers = np.squeeze(outliers_from_cvae(model_weight, cvae_input, hyper_dim=int(model_weight[11]), eps=eps))\n",
    "        n_outlier = len(outliers)\n",
    "        print 'dimension = {0}, eps = {1}, number of outlier found: {2}'.format(\n",
    "            model_weight[11], eps, n_outlier)\n",
    "        if n_outlier <= 50: \n",
    "            print 'Frame number of outliers:'\n",
    "            print outliers\n",
    "            outlier_list.append(outliers)\n",
    "            print 'next dimenstion '\n",
    "            break"
   ]
  },
  {
   "cell_type": "code",
   "execution_count": 71,
   "metadata": {},
   "outputs": [
    {
     "data": {
      "text/plain": [
       "(131,)"
      ]
     },
     "execution_count": 71,
     "metadata": {},
     "output_type": "execute_result"
    }
   ],
   "source": [
    "(np.hstack(outlier_list)).shape"
   ]
  },
  {
   "cell_type": "code",
   "execution_count": 72,
   "metadata": {},
   "outputs": [],
   "source": [
    "outlier_list_uni, outlier_count = np.unique(np.hstack(outlier_list), return_counts=True)"
   ]
  },
  {
   "cell_type": "code",
   "execution_count": 86,
   "metadata": {},
   "outputs": [],
   "source": [
    "outlier_list_ulti = outlier_list_uni[np.where(outlier_count > 1)]"
   ]
  },
  {
   "cell_type": "code",
   "execution_count": 77,
   "metadata": {},
   "outputs": [
    {
     "name": "stdout",
     "output_type": "stream",
     "text": [
      "Writing pdb files\n"
     ]
    },
    {
     "data": {
      "text/plain": [
       "{'omm_run_1543441282/output_cm.h5': 26017,\n",
       " 'omm_run_1543553699/output_cm.h5': 58,\n",
       " 'omm_run_1543553701/output_cm.h5': 60,\n",
       " 'omm_run_1543553703/output_cm.h5': 60,\n",
       " 'omm_run_1543553705/output_cm.h5': 62,\n",
       " 'omm_run_1543553707/output_cm.h5': 225,\n",
       " 'omm_run_1543553709/output_cm.h5': 222,\n",
       " 'omm_run_1543553711/output_cm.h5': 221,\n",
       " 'omm_run_1543553713/output_cm.h5': 226,\n",
       " 'omm_run_1543553715/output_cm.h5': 222,\n",
       " 'omm_run_1543553717/output_cm.h5': 222,\n",
       " 'omm_run_1543553719/output_cm.h5': 223,\n",
       " 'omm_run_1543553721/output_cm.h5': 223,\n",
       " 'omm_run_1543553723/output_cm.h5': 219,\n",
       " 'omm_run_1543553725/output_cm.h5': 217,\n",
       " 'omm_run_1543553727/output_cm.h5': 216,\n",
       " 'omm_run_1543553729/output_cm.h5': 216}"
      ]
     },
     "execution_count": 77,
     "metadata": {},
     "output_type": "execute_result"
    }
   ],
   "source": [
    "print('Writing pdb files') \n",
    "# write the pdb according the outlier indices\n",
    "traj_info = open('./scheduler_logs/openmm_log.txt', 'r').read().split()\n",
    "\n",
    "traj_dict = dict(zip(traj_info[::2], np.array(traj_info[1::2]).astype(int)))\n",
    "\n",
    "traj_dict"
   ]
  },
  {
   "cell_type": "code",
   "execution_count": 87,
   "metadata": {},
   "outputs": [],
   "source": [
    "outliers_pdb = os.path.abspath('./outlier_pdbs')\n",
    "make_dir_p(outliers_pdb)\n",
    "\n",
    "for outlier in outlier_list_ulti: \n",
    "    traj_file, frame_number = find_frame(traj_dict, outlier) \n",
    "    outlier_pdb_file = os.path.join(outliers_pdb, '%d_%s_%d.pdb' % (outlier, traj_file[:18], frame_number))\n",
    "    outlier_pdb = write_pdb_frame(traj_file, pdb_file, frame_number, outlier_pdb_file) "
   ]
  },
  {
   "cell_type": "code",
   "execution_count": null,
   "metadata": {},
   "outputs": [],
   "source": []
  }
 ],
 "metadata": {
  "kernelspec": {
   "display_name": "Python 2",
   "language": "python",
   "name": "python2"
  },
  "language_info": {
   "codemirror_mode": {
    "name": "ipython",
    "version": 2
   },
   "file_extension": ".py",
   "mimetype": "text/x-python",
   "name": "python",
   "nbconvert_exporter": "python",
   "pygments_lexer": "ipython2",
   "version": "2.7.14"
  }
 },
 "nbformat": 4,
 "nbformat_minor": 2
}
